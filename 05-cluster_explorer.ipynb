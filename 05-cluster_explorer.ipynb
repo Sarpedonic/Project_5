{
 "cells": [
  {
   "cell_type": "markdown",
   "metadata": {},
   "source": [
    "# Get a flavor pairing from the flavor generator, find the nearest cluster, pull the rest of the ingredients from that cluster"
   ]
  },
  {
   "cell_type": "code",
   "execution_count": 1,
   "metadata": {},
   "outputs": [],
   "source": [
    "import pandas as pd\n",
    "import numpy as np\n",
    "from sklearn.metrics import pairwise\n",
    "import random"
   ]
  },
  {
   "cell_type": "code",
   "execution_count": 2,
   "metadata": {},
   "outputs": [],
   "source": [
    "# Define flavor matrices here\n",
    "recs = pd.read_csv(\"Recipe_Components_Dense.csv\")\n",
    "shares = pd.read_csv(\"Shared_Compounds_Dense.csv\")\n",
    "\n",
    "# Import cluster centroids\n",
    "cl_gb = pd.read_csv('Clusters/cluster_lookup.csv')\n",
    "\n",
    "# Let's not keep the target column (Cluster)\n",
    "cl_gb = cl_gb.drop(columns='Cluster')"
   ]
  },
  {
   "cell_type": "markdown",
   "metadata": {},
   "source": [
    "## Make a novel flavor combination"
   ]
  },
  {
   "cell_type": "code",
   "execution_count": 3,
   "metadata": {},
   "outputs": [],
   "source": [
    "def flavor_generator(first_flavor, num_flavors, flavor_space):\n",
    "    flavors = []\n",
    "    flavors.append(first_flavor)\n",
    "    n = num_flavors - 1\n",
    "    current_flavor = first_flavor\n",
    "    fail = 0\n",
    "    while n > 0:\n",
    "        new_flavor_index = random.choices(flavor_space.index,\n",
    "                                          weights=flavor_space[current_flavor], k=1)\n",
    "        new_flavor = flavor_space.iloc[new_flavor_index[0]][0]\n",
    "        if new_flavor in flavors:\n",
    "            fail += 1\n",
    "            if fail > 10000:\n",
    "                print(\"Too much failure. Can't continue.\")\n",
    "                break\n",
    "            else:\n",
    "                current_flavor = first_flavor\n",
    "                continue\n",
    "        else:\n",
    "            flavors.append(new_flavor)\n",
    "            print('Went from ', current_flavor, ' to ', new_flavor, '. ', \n",
    "                  flavor_space[current_flavor].iloc[new_flavor_index[0]], ' shared flavor compounds.')\n",
    "            current_flavor = new_flavor\n",
    "            n -= 1\n",
    "    return flavors"
   ]
  },
  {
   "cell_type": "code",
   "execution_count": 107,
   "metadata": {},
   "outputs": [
    {
     "name": "stdout",
     "output_type": "stream",
     "text": [
      "Went from  bacon  to  japanese_mint .  7  shared flavor compounds.\n",
      "Went from  japanese_mint  to  roasted_pecan .  9  shared flavor compounds.\n",
      "Went from  roasted_pecan  to  french_bean .  26  shared flavor compounds.\n",
      "Went from  french_bean  to  shrimp .  28  shared flavor compounds.\n"
     ]
    },
    {
     "data": {
      "text/plain": [
       "['bacon', 'japanese_mint', 'roasted_pecan', 'french_bean', 'shrimp']"
      ]
     },
     "execution_count": 107,
     "metadata": {},
     "output_type": "execute_result"
    }
   ],
   "source": [
    "gen_1 = flavor_generator('bacon', 5, shares)\n",
    "gen_1"
   ]
  },
  {
   "cell_type": "markdown",
   "metadata": {},
   "source": [
    "## Find a cluster for the flavor combination"
   ]
  },
  {
   "cell_type": "code",
   "execution_count": 9,
   "metadata": {},
   "outputs": [],
   "source": [
    "def cluster_choice(flavor_set):\n",
    "    gen_rec = np.ma.zeros(len(cl_gb.columns), dtype='Int16')\n",
    "    gen_ing = pd.Series(gen_rec, index=cl_gb.columns)\n",
    "    gen_2 = []\n",
    "    for ing in flavor_set:\n",
    "        twos = ing.split('_')\n",
    "        gen_2.extend(twos)\n",
    "        \n",
    "    for ing in gen_2:\n",
    "        try:\n",
    "            gen_ing[ing] += 1\n",
    "        finally:\n",
    "            continue\n",
    "    \n",
    "    cosinesim = pairwise.cosine_similarity(np.array(gen_ing).reshape(1, -1), cl_gb)\n",
    "    cosinesim = cosinesim[0]\n",
    "    clusterchoix = np.argmax(cosinesim)\n",
    "    return flavor_set, clusterchoix, cosinesim"
   ]
  },
  {
   "cell_type": "code",
   "execution_count": 108,
   "metadata": {},
   "outputs": [
    {
     "data": {
      "text/plain": [
       "(['bacon', 'japanese_mint', 'roasted_pecan', 'french_bean', 'shrimp'],\n",
       " 0,\n",
       " array([0.11408472, 0.03379565, 0.01137763, 0.07297048, 0.03653373,\n",
       "        0.03569394, 0.0319575 , 0.03715399, 0.03950668, 0.06630271,\n",
       "        0.04892031, 0.04984783, 0.04726951, 0.04163775]))"
      ]
     },
     "execution_count": 108,
     "metadata": {},
     "output_type": "execute_result"
    }
   ],
   "source": [
    "cl_map = cluster_choice(gen_1)\n",
    "cl_map"
   ]
  },
  {
   "cell_type": "code",
   "execution_count": 129,
   "metadata": {},
   "outputs": [],
   "source": [
    "# Cluster can be changed here, cosine distance visible\n",
    "cl_map_revised = [cl_map[0], 3, cl_map[2]]"
   ]
  },
  {
   "cell_type": "markdown",
   "metadata": {},
   "source": [
    "## Bring in additional flavors from that cluster"
   ]
  },
  {
   "cell_type": "code",
   "execution_count": 131,
   "metadata": {},
   "outputs": [],
   "source": [
    "def cluster_explorer(cluster_map, num_ingredients):\n",
    "    ingredients = []\n",
    "    flavor_space = pd.read_csv('Clusters/cluster_' + str(cluster_map[1]) + '_recipe_matrix.csv')\n",
    "    gen_2 = []\n",
    "    \n",
    "    for ing in cluster_map[0]:\n",
    "        twos = ing.split('_')\n",
    "        gen_2.extend(twos)\n",
    "    \n",
    "    liftoff = random.choice(gen_2)\n",
    "    jumpoff = liftoff\n",
    "    failures = 0\n",
    "    \n",
    "    while len(set(ingredients)) < num_ingredients:\n",
    "        if failures > 500:\n",
    "            print('Failed to find ingredients in cluster ', str(cluster_map[1]), '!')\n",
    "            break\n",
    "        else:\n",
    "            try:\n",
    "                new_ind = random.choices(flavor_space.index,\n",
    "                                         weights=np.log(flavor_space[liftoff] + 1), k=1)\n",
    "                new_flavor = flavor_space.iloc[new_ind[0]][0]\n",
    "                if new_flavor in ingredients:\n",
    "                    liftoff = random.choice(gen_2)\n",
    "                    failures += 1\n",
    "                    continue\n",
    "                else:\n",
    "                    ingredients.append(new_flavor)\n",
    "                    print(liftoff, ' and ', new_flavor, ' appear together in ', \n",
    "                          flavor_space[liftoff].iloc[new_ind[0]], ' recipes in cluster ', cluster_map[1] )\n",
    "                    #liftoff = new_flavor\n",
    "            except KeyError:\n",
    "                liftoff = random.choice(gen_2)\n",
    "                failures += 1\n",
    "                continue\n",
    "    print('Started with', jumpoff, '...')    \n",
    "    return cluster_map[0], set(ingredients)"
   ]
  },
  {
   "cell_type": "code",
   "execution_count": 166,
   "metadata": {},
   "outputs": [
    {
     "name": "stdout",
     "output_type": "stream",
     "text": [
      "bacon  and  cornflakes  appear together in  1  recipes in cluster  3\n",
      "bacon  and  oregano  appear together in  12  recipes in cluster  3\n",
      "bacon  and  onions  appear together in  169  recipes in cluster  3\n",
      "bacon  and  tarragon  appear together in  10  recipes in cluster  3\n",
      "bacon  and  kernels  appear together in  28  recipes in cluster  3\n",
      "bacon  and  broccoli  appear together in  31  recipes in cluster  3\n",
      "bacon  and  steak  appear together in  12  recipes in cluster  3\n",
      "bacon  and  ginger  appear together in  4  recipes in cluster  3\n",
      "Started with roasted ...\n"
     ]
    },
    {
     "data": {
      "text/plain": [
       "(['bacon', 'japanese_mint', 'roasted_pecan', 'french_bean', 'shrimp'],\n",
       " {'broccoli',\n",
       "  'cornflakes',\n",
       "  'ginger',\n",
       "  'kernels',\n",
       "  'onions',\n",
       "  'oregano',\n",
       "  'steak',\n",
       "  'tarragon'})"
      ]
     },
     "execution_count": 166,
     "metadata": {},
     "output_type": "execute_result"
    }
   ],
   "source": [
    "cluster_explorer(cl_map_revised, 8)"
   ]
  },
  {
   "cell_type": "code",
   "execution_count": null,
   "metadata": {},
   "outputs": [],
   "source": []
  }
 ],
 "metadata": {
  "kernelspec": {
   "display_name": "Python 3",
   "language": "python",
   "name": "python3"
  },
  "language_info": {
   "codemirror_mode": {
    "name": "ipython",
    "version": 3
   },
   "file_extension": ".py",
   "mimetype": "text/x-python",
   "name": "python",
   "nbconvert_exporter": "python",
   "pygments_lexer": "ipython3",
   "version": "3.8.5"
  }
 },
 "nbformat": 4,
 "nbformat_minor": 4
}
