{
 "cells": [
  {
   "cell_type": "markdown",
   "metadata": {},
   "source": [
    "# Clean, read, TFIDF vectorize additional recipes from the internet"
   ]
  },
  {
   "cell_type": "code",
   "execution_count": 1,
   "metadata": {},
   "outputs": [],
   "source": [
    "import json\n",
    "import pandas as pd\n",
    "import matplotlib.pyplot as plt\n",
    "import seaborn as sns\n",
    "import numpy as np\n",
    "import re\n",
    "import string\n",
    "from sklearn.cluster import MiniBatchKMeans\n",
    "from sklearn.feature_extraction.text import TfidfVectorizer"
   ]
  },
  {
   "cell_type": "markdown",
   "metadata": {},
   "source": [
    "### Get all of the ingredients sections from each group of recipes"
   ]
  },
  {
   "cell_type": "code",
   "execution_count": 23,
   "metadata": {},
   "outputs": [],
   "source": [
    "with open('Data/EightPortions/recipes_raw_nosource_epi.json') as r:\n",
    "    data = json.load(r)"
   ]
  },
  {
   "cell_type": "code",
   "execution_count": 24,
   "metadata": {},
   "outputs": [],
   "source": [
    "others = pd.DataFrame(data)"
   ]
  },
  {
   "cell_type": "code",
   "execution_count": 25,
   "metadata": {},
   "outputs": [
    {
     "data": {
      "text/html": [
       "<div>\n",
       "<style scoped>\n",
       "    .dataframe tbody tr th:only-of-type {\n",
       "        vertical-align: middle;\n",
       "    }\n",
       "\n",
       "    .dataframe tbody tr th {\n",
       "        vertical-align: top;\n",
       "    }\n",
       "\n",
       "    .dataframe thead th {\n",
       "        text-align: right;\n",
       "    }\n",
       "</style>\n",
       "<table border=\"1\" class=\"dataframe\">\n",
       "  <thead>\n",
       "    <tr style=\"text-align: right;\">\n",
       "      <th></th>\n",
       "      <th>05zEpbSqcs9E0rcnCJWyZ9OgdH0MLby</th>\n",
       "      <th>mF5SZmoqxF4WtIlhLRvzuKk.z6s7P2S</th>\n",
       "      <th>oQV5D7cVbCFwmrDs3pBUv2y.AG0WV26</th>\n",
       "      <th>Z9seBJWaB5NkSp4DQHDnCAUBTwov/1u</th>\n",
       "      <th>bB3GxoAplVZeoX3fzWNWyeECtQFxw6G</th>\n",
       "      <th>FHQAJvovVtPyKWlzgFEHgSUJsCM2Tjq</th>\n",
       "      <th>Jt7RKsNPY7/1QrOjuPEomP/s6mD2AvO</th>\n",
       "      <th>1rBWKEw7vZjXA97NmHGS3VHq1iVX9c.</th>\n",
       "      <th>agTMHTysNlAOyMM3zQlXVu4qbJrLmqa</th>\n",
       "      <th>Y..dFCvcwNW4gdogZ3DqLUETR2x.uA2</th>\n",
       "      <th>...</th>\n",
       "      <th>VUfq3eH/dAQ2DDaa83Dp1x8Hdm7vCv6</th>\n",
       "      <th>g0paH27SGSQ/aN.el/wwu/nxX7RnmIi</th>\n",
       "      <th>ARu0StlTkUfsW5DKqtmupUEJyF8Rdh6</th>\n",
       "      <th>cbKR3qnmLFpQTNxrF7qYhy1kEaXJ6w.</th>\n",
       "      <th>K0hj3K9zJA3.WqLpYyijMgCYZ7dSQOu</th>\n",
       "      <th>lgygAJbdT1RNgrOYYveXtW4Ze9GtcZK</th>\n",
       "      <th>EgIvlp1EfF4qTsnSI3v7ViZF1b3f2qC</th>\n",
       "      <th>aCaoP.P8A1h6ALQmBnw3ypvYfRt/zZe</th>\n",
       "      <th>fGxd/ZNUQcXxxqaVgEtMJmsNKLbugAe</th>\n",
       "      <th>qznqHiNpq0AB1AYn002A2HvaEFnN0lq</th>\n",
       "    </tr>\n",
       "  </thead>\n",
       "  <tbody>\n",
       "    <tr>\n",
       "      <th>ingredients</th>\n",
       "      <td>[12 egg whites, 12 egg yolks, 1 1/2 cups sugar...</td>\n",
       "      <td>[18 fresh chestnuts, 2 1/2 pounds veal stew me...</td>\n",
       "      <td>[2 tablespoons unsalted butter, softened, 4 or...</td>\n",
       "      <td>[3/4 pound Stilton, crumbled (about 3 cups) an...</td>\n",
       "      <td>[2 cups (about 9 1/2 ounces) whole almonds, to...</td>\n",
       "      <td>[2 tablespoons butter, 2 tablespoons flour, 1 ...</td>\n",
       "      <td>[1/2 teaspoon finely grated fresh lemon zest, ...</td>\n",
       "      <td>[2 garlic cloves, finely chopped, 2 teaspoons ...</td>\n",
       "      <td>[2 tablespoons (1/4 stick) butter, 1/4 cup oli...</td>\n",
       "      <td>[1 recipe pâte à chou, About 1 cup pastry crea...</td>\n",
       "      <td>...</td>\n",
       "      <td>[1 lemon, 4 pounds littleneck clams, 1 garlic ...</td>\n",
       "      <td>[2 large egg yolks, 2 tablespoons apple cider,...</td>\n",
       "      <td>[1 package (3.4 ounces) vanilla pudding, Veget...</td>\n",
       "      <td>[2 cups sugar, 2/3 cup plus 1/4 cup water, 1/2...</td>\n",
       "      <td>[1/2 cup sugar, 1/2 teaspoon each: ground clov...</td>\n",
       "      <td>[5 cups (about) canned beef broth, 1 cup lenti...</td>\n",
       "      <td>[1/2 teaspoon turmeric, 2 cups water, 3/4 poun...</td>\n",
       "      <td>[1 medium jalapeño, thinly sliced, 2 garlic cl...</td>\n",
       "      <td>[1 1/2 cups almond flour or almond meal, 1/2 c...</td>\n",
       "      <td>[1 1/2 pounds plum tomatoes, coarsely chopped ...</td>\n",
       "    </tr>\n",
       "    <tr>\n",
       "      <th>picture_link</th>\n",
       "      <td>None</td>\n",
       "      <td>None</td>\n",
       "      <td>3xjktRst3I5lDZ2Z5kTOtqQyzZFFN9u</td>\n",
       "      <td>None</td>\n",
       "      <td>None</td>\n",
       "      <td>cvv25l1DWlsVF/1TPnkpMI8tLdIMGem</td>\n",
       "      <td>g2GPWB.pUjfUxA36R/G8tLTDbtlFtGS</td>\n",
       "      <td>None</td>\n",
       "      <td>None</td>\n",
       "      <td>/CJLlvthN5lJcsScHGU7CKrxbGS5ElW</td>\n",
       "      <td>...</td>\n",
       "      <td>J87nuNT0Lj8f1NkwCIDDKZvQPUyO39W</td>\n",
       "      <td>None</td>\n",
       "      <td>2z4akFs8e/HKRv2Ku6imTYbYXQEBU.a</td>\n",
       "      <td>None</td>\n",
       "      <td>None</td>\n",
       "      <td>None</td>\n",
       "      <td>16DvpBiksnvbWPCSdZUcPY3oFvgo0py</td>\n",
       "      <td>m6IALrfAOr5KDVpqKcvUNpa7VermSIq</td>\n",
       "      <td>wq1Cqtl16W8QpuFaXrDdB2kGsUn9Ku6</td>\n",
       "      <td>DIZQ16bhYvwR7yKtaNOQf3XkgD0vbCK</td>\n",
       "    </tr>\n",
       "    <tr>\n",
       "      <th>instructions</th>\n",
       "      <td>Beat the egg whites until stiff, gradually add...</td>\n",
       "      <td>Preheat oven to 400°F. Using small sharp knife...</td>\n",
       "      <td>Preheat the oven to 350°F. Spread the softened...</td>\n",
       "      <td>In a food processor blend the Stilton, the cre...</td>\n",
       "      <td>Position rack in center of oven and preheat to...</td>\n",
       "      <td>Melt the butter in a heavy-bottomed saucepan. ...</td>\n",
       "      <td>Whisk together zest, lemon juice, and salt and...</td>\n",
       "      <td>Cook garlic and ginger in oil in a 1- to 1 1/2...</td>\n",
       "      <td>Preheat oven to 350°F. Melt 2 tablespoons butt...</td>\n",
       "      <td>Make cream puffs Preheat oven to 425°F. and bu...</td>\n",
       "      <td>...</td>\n",
       "      <td>Prepare a grill for medium-high heat. Cut lemo...</td>\n",
       "      <td>For crust: Whisk egg yolks and apple cider in ...</td>\n",
       "      <td>Make pudding as directed on package. Heat oven...</td>\n",
       "      <td>Stir sugar and 2/3 cup water in heavy medium s...</td>\n",
       "      <td>1. Preheat the oven to 350°:F. Combine the sug...</td>\n",
       "      <td>Bring 4 cups broth and lentils to boil in larg...</td>\n",
       "      <td>Stir together turmeric, 1 1/2 cups water, and ...</td>\n",
       "      <td>Marinate and cook the steak: Combine jalapeño,...</td>\n",
       "      <td>Make the cakes: Preheat oven to 350°F. Line th...</td>\n",
       "      <td>Preheat oven to 400°F. Combine plum tomatoes, ...</td>\n",
       "    </tr>\n",
       "    <tr>\n",
       "      <th>title</th>\n",
       "      <td>Christmas Eggnog</td>\n",
       "      <td>Veal, Carrot and Chestnut Ragoût</td>\n",
       "      <td>Caramelized Bread Pudding with Chocolate and C...</td>\n",
       "      <td>Sherried Stilton and Green Peppercorn Spread</td>\n",
       "      <td>Almond-Chocolate Macaroons</td>\n",
       "      <td>White Sauce or Bechamel Sauce</td>\n",
       "      <td>Grilled Whole Mackerel with Lemon, Oregano, an...</td>\n",
       "      <td>Apricot Chutney</td>\n",
       "      <td>Garlic Croutons</td>\n",
       "      <td>Christmas Croquembouche</td>\n",
       "      <td>...</td>\n",
       "      <td>Grilled Clam Toasts With Lemon and Green Olives</td>\n",
       "      <td>Pear and Almond Tart</td>\n",
       "      <td>Tropical Fruit and Cake Trifle</td>\n",
       "      <td>Brandied Caramel Sauce</td>\n",
       "      <td>Festive Nuts</td>\n",
       "      <td>Spinach and Lentil Soup</td>\n",
       "      <td>Fresh Cheese with Spinach</td>\n",
       "      <td>Jalapeño and Lime–Marinated Skirt Steak Tacos</td>\n",
       "      <td>Semolina–Lemon Syrup Cakes</td>\n",
       "      <td>Chicken Cacciatore</td>\n",
       "    </tr>\n",
       "  </tbody>\n",
       "</table>\n",
       "<p>4 rows × 25323 columns</p>\n",
       "</div>"
      ],
      "text/plain": [
       "                                05zEpbSqcs9E0rcnCJWyZ9OgdH0MLby  \\\n",
       "ingredients   [12 egg whites, 12 egg yolks, 1 1/2 cups sugar...   \n",
       "picture_link                                               None   \n",
       "instructions  Beat the egg whites until stiff, gradually add...   \n",
       "title                                         Christmas Eggnog    \n",
       "\n",
       "                                mF5SZmoqxF4WtIlhLRvzuKk.z6s7P2S  \\\n",
       "ingredients   [18 fresh chestnuts, 2 1/2 pounds veal stew me...   \n",
       "picture_link                                               None   \n",
       "instructions  Preheat oven to 400°F. Using small sharp knife...   \n",
       "title                         Veal, Carrot and Chestnut Ragoût    \n",
       "\n",
       "                                oQV5D7cVbCFwmrDs3pBUv2y.AG0WV26  \\\n",
       "ingredients   [2 tablespoons unsalted butter, softened, 4 or...   \n",
       "picture_link                    3xjktRst3I5lDZ2Z5kTOtqQyzZFFN9u   \n",
       "instructions  Preheat the oven to 350°F. Spread the softened...   \n",
       "title         Caramelized Bread Pudding with Chocolate and C...   \n",
       "\n",
       "                                Z9seBJWaB5NkSp4DQHDnCAUBTwov/1u  \\\n",
       "ingredients   [3/4 pound Stilton, crumbled (about 3 cups) an...   \n",
       "picture_link                                               None   \n",
       "instructions  In a food processor blend the Stilton, the cre...   \n",
       "title             Sherried Stilton and Green Peppercorn Spread    \n",
       "\n",
       "                                bB3GxoAplVZeoX3fzWNWyeECtQFxw6G  \\\n",
       "ingredients   [2 cups (about 9 1/2 ounces) whole almonds, to...   \n",
       "picture_link                                               None   \n",
       "instructions  Position rack in center of oven and preheat to...   \n",
       "title                               Almond-Chocolate Macaroons    \n",
       "\n",
       "                                FHQAJvovVtPyKWlzgFEHgSUJsCM2Tjq  \\\n",
       "ingredients   [2 tablespoons butter, 2 tablespoons flour, 1 ...   \n",
       "picture_link                    cvv25l1DWlsVF/1TPnkpMI8tLdIMGem   \n",
       "instructions  Melt the butter in a heavy-bottomed saucepan. ...   \n",
       "title                            White Sauce or Bechamel Sauce    \n",
       "\n",
       "                                Jt7RKsNPY7/1QrOjuPEomP/s6mD2AvO  \\\n",
       "ingredients   [1/2 teaspoon finely grated fresh lemon zest, ...   \n",
       "picture_link                    g2GPWB.pUjfUxA36R/G8tLTDbtlFtGS   \n",
       "instructions  Whisk together zest, lemon juice, and salt and...   \n",
       "title         Grilled Whole Mackerel with Lemon, Oregano, an...   \n",
       "\n",
       "                                1rBWKEw7vZjXA97NmHGS3VHq1iVX9c.  \\\n",
       "ingredients   [2 garlic cloves, finely chopped, 2 teaspoons ...   \n",
       "picture_link                                               None   \n",
       "instructions  Cook garlic and ginger in oil in a 1- to 1 1/2...   \n",
       "title                                          Apricot Chutney    \n",
       "\n",
       "                                agTMHTysNlAOyMM3zQlXVu4qbJrLmqa  \\\n",
       "ingredients   [2 tablespoons (1/4 stick) butter, 1/4 cup oli...   \n",
       "picture_link                                               None   \n",
       "instructions  Preheat oven to 350°F. Melt 2 tablespoons butt...   \n",
       "title                                          Garlic Croutons    \n",
       "\n",
       "                                Y..dFCvcwNW4gdogZ3DqLUETR2x.uA2  ...  \\\n",
       "ingredients   [1 recipe pâte à chou, About 1 cup pastry crea...  ...   \n",
       "picture_link                    /CJLlvthN5lJcsScHGU7CKrxbGS5ElW  ...   \n",
       "instructions  Make cream puffs Preheat oven to 425°F. and bu...  ...   \n",
       "title                                  Christmas Croquembouche   ...   \n",
       "\n",
       "                                VUfq3eH/dAQ2DDaa83Dp1x8Hdm7vCv6  \\\n",
       "ingredients   [1 lemon, 4 pounds littleneck clams, 1 garlic ...   \n",
       "picture_link                    J87nuNT0Lj8f1NkwCIDDKZvQPUyO39W   \n",
       "instructions  Prepare a grill for medium-high heat. Cut lemo...   \n",
       "title          Grilled Clam Toasts With Lemon and Green Olives    \n",
       "\n",
       "                                g0paH27SGSQ/aN.el/wwu/nxX7RnmIi  \\\n",
       "ingredients   [2 large egg yolks, 2 tablespoons apple cider,...   \n",
       "picture_link                                               None   \n",
       "instructions  For crust: Whisk egg yolks and apple cider in ...   \n",
       "title                                     Pear and Almond Tart    \n",
       "\n",
       "                                ARu0StlTkUfsW5DKqtmupUEJyF8Rdh6  \\\n",
       "ingredients   [1 package (3.4 ounces) vanilla pudding, Veget...   \n",
       "picture_link                    2z4akFs8e/HKRv2Ku6imTYbYXQEBU.a   \n",
       "instructions  Make pudding as directed on package. Heat oven...   \n",
       "title                           Tropical Fruit and Cake Trifle    \n",
       "\n",
       "                                cbKR3qnmLFpQTNxrF7qYhy1kEaXJ6w.  \\\n",
       "ingredients   [2 cups sugar, 2/3 cup plus 1/4 cup water, 1/2...   \n",
       "picture_link                                               None   \n",
       "instructions  Stir sugar and 2/3 cup water in heavy medium s...   \n",
       "title                                   Brandied Caramel Sauce    \n",
       "\n",
       "                                K0hj3K9zJA3.WqLpYyijMgCYZ7dSQOu  \\\n",
       "ingredients   [1/2 cup sugar, 1/2 teaspoon each: ground clov...   \n",
       "picture_link                                               None   \n",
       "instructions  1. Preheat the oven to 350°:F. Combine the sug...   \n",
       "title                                             Festive Nuts    \n",
       "\n",
       "                                lgygAJbdT1RNgrOYYveXtW4Ze9GtcZK  \\\n",
       "ingredients   [5 cups (about) canned beef broth, 1 cup lenti...   \n",
       "picture_link                                               None   \n",
       "instructions  Bring 4 cups broth and lentils to boil in larg...   \n",
       "title                                  Spinach and Lentil Soup    \n",
       "\n",
       "                                EgIvlp1EfF4qTsnSI3v7ViZF1b3f2qC  \\\n",
       "ingredients   [1/2 teaspoon turmeric, 2 cups water, 3/4 poun...   \n",
       "picture_link                    16DvpBiksnvbWPCSdZUcPY3oFvgo0py   \n",
       "instructions  Stir together turmeric, 1 1/2 cups water, and ...   \n",
       "title                                Fresh Cheese with Spinach    \n",
       "\n",
       "                                aCaoP.P8A1h6ALQmBnw3ypvYfRt/zZe  \\\n",
       "ingredients   [1 medium jalapeño, thinly sliced, 2 garlic cl...   \n",
       "picture_link                    m6IALrfAOr5KDVpqKcvUNpa7VermSIq   \n",
       "instructions  Marinate and cook the steak: Combine jalapeño,...   \n",
       "title            Jalapeño and Lime–Marinated Skirt Steak Tacos    \n",
       "\n",
       "                                fGxd/ZNUQcXxxqaVgEtMJmsNKLbugAe  \\\n",
       "ingredients   [1 1/2 cups almond flour or almond meal, 1/2 c...   \n",
       "picture_link                    wq1Cqtl16W8QpuFaXrDdB2kGsUn9Ku6   \n",
       "instructions  Make the cakes: Preheat oven to 350°F. Line th...   \n",
       "title                               Semolina–Lemon Syrup Cakes    \n",
       "\n",
       "                                qznqHiNpq0AB1AYn002A2HvaEFnN0lq  \n",
       "ingredients   [1 1/2 pounds plum tomatoes, coarsely chopped ...  \n",
       "picture_link                    DIZQ16bhYvwR7yKtaNOQf3XkgD0vbCK  \n",
       "instructions  Preheat oven to 400°F. Combine plum tomatoes, ...  \n",
       "title                                       Chicken Cacciatore   \n",
       "\n",
       "[4 rows x 25323 columns]"
      ]
     },
     "execution_count": 25,
     "metadata": {},
     "output_type": "execute_result"
    }
   ],
   "source": [
    "others.head()"
   ]
  },
  {
   "cell_type": "code",
   "execution_count": 26,
   "metadata": {},
   "outputs": [],
   "source": [
    "sames = others.T"
   ]
  },
  {
   "cell_type": "code",
   "execution_count": 27,
   "metadata": {},
   "outputs": [],
   "source": [
    "ingreds3 = sames['ingredients']"
   ]
  },
  {
   "cell_type": "code",
   "execution_count": 28,
   "metadata": {},
   "outputs": [
    {
     "data": {
      "text/plain": [
       "05zEpbSqcs9E0rcnCJWyZ9OgdH0MLby    [12 egg whites, 12 egg yolks, 1 1/2 cups sugar...\n",
       "mF5SZmoqxF4WtIlhLRvzuKk.z6s7P2S    [18 fresh chestnuts, 2 1/2 pounds veal stew me...\n",
       "oQV5D7cVbCFwmrDs3pBUv2y.AG0WV26    [2 tablespoons unsalted butter, softened, 4 or...\n",
       "Z9seBJWaB5NkSp4DQHDnCAUBTwov/1u    [3/4 pound Stilton, crumbled (about 3 cups) an...\n",
       "bB3GxoAplVZeoX3fzWNWyeECtQFxw6G    [2 cups (about 9 1/2 ounces) whole almonds, to...\n",
       "                                                         ...                        \n",
       "lgygAJbdT1RNgrOYYveXtW4Ze9GtcZK    [5 cups (about) canned beef broth, 1 cup lenti...\n",
       "EgIvlp1EfF4qTsnSI3v7ViZF1b3f2qC    [1/2 teaspoon turmeric, 2 cups water, 3/4 poun...\n",
       "aCaoP.P8A1h6ALQmBnw3ypvYfRt/zZe    [1 medium jalapeño, thinly sliced, 2 garlic cl...\n",
       "fGxd/ZNUQcXxxqaVgEtMJmsNKLbugAe    [1 1/2 cups almond flour or almond meal, 1/2 c...\n",
       "qznqHiNpq0AB1AYn002A2HvaEFnN0lq    [1 1/2 pounds plum tomatoes, coarsely chopped ...\n",
       "Name: ingredients, Length: 25323, dtype: object"
      ]
     },
     "execution_count": 28,
     "metadata": {},
     "output_type": "execute_result"
    }
   ],
   "source": [
    "ingreds3"
   ]
  },
  {
   "cell_type": "code",
   "execution_count": 29,
   "metadata": {},
   "outputs": [],
   "source": [
    "ingredients = [ingreds, ingreds2, ingreds3]"
   ]
  },
  {
   "cell_type": "code",
   "execution_count": 31,
   "metadata": {},
   "outputs": [],
   "source": [
    "ingrediento = pd.concat(ingredients)"
   ]
  },
  {
   "cell_type": "code",
   "execution_count": 32,
   "metadata": {},
   "outputs": [],
   "source": [
    "#ingrediento.to_csv('Rec_Ing_8Port.csv')"
   ]
  },
  {
   "cell_type": "markdown",
   "metadata": {},
   "source": [
    "### Remove numbers and use stop words to whittle down to just food ingredients"
   ]
  },
  {
   "cell_type": "code",
   "execution_count": 13,
   "metadata": {},
   "outputs": [],
   "source": [
    "# Issues with encoding. 'Latin-1' is the only one that doesn't throw an error.\n",
    "labeled_docs = pd.read_csv(\"Recs_Docs.csv\", encoding=\"latin-1\", error_bad_lines=False)"
   ]
  },
  {
   "cell_type": "code",
   "execution_count": 3,
   "metadata": {},
   "outputs": [],
   "source": [
    "# Read externally defined stop words\n",
    "stopper = pd.read_csv(\"nonsense_ingredients.csv\", encoding=\"latin-1\", error_bad_lines=False)\n",
    "stopper = stopper.reset_index()\n",
    "stops = stopper['0']\n"
   ]
  },
  {
   "cell_type": "code",
   "execution_count": 35,
   "metadata": {},
   "outputs": [
    {
     "data": {
      "text/html": [
       "<div>\n",
       "<style scoped>\n",
       "    .dataframe tbody tr th:only-of-type {\n",
       "        vertical-align: middle;\n",
       "    }\n",
       "\n",
       "    .dataframe tbody tr th {\n",
       "        vertical-align: top;\n",
       "    }\n",
       "\n",
       "    .dataframe thead th {\n",
       "        text-align: right;\n",
       "    }\n",
       "</style>\n",
       "<table border=\"1\" class=\"dataframe\">\n",
       "  <thead>\n",
       "    <tr style=\"text-align: right;\">\n",
       "      <th></th>\n",
       "      <th>Ingredients</th>\n",
       "    </tr>\n",
       "  </thead>\n",
       "  <tbody>\n",
       "    <tr>\n",
       "      <th>0</th>\n",
       "      <td>['1/2 cup celery, finely chopped', '1 small gr...</td>\n",
       "    </tr>\n",
       "    <tr>\n",
       "      <th>1</th>\n",
       "      <td>['2 pounds skirt steak, cut into 1/2-inch dice...</td>\n",
       "    </tr>\n",
       "    <tr>\n",
       "      <th>2</th>\n",
       "      <td>['1 1/2 cups dried black beans, picked over an...</td>\n",
       "    </tr>\n",
       "    <tr>\n",
       "      <th>3</th>\n",
       "      <td>['1 1/4 pounds ground chuck', 'One 15-ounce ca...</td>\n",
       "    </tr>\n",
       "    <tr>\n",
       "      <th>4</th>\n",
       "      <td>['1 cup rice, brown, medium-grain, cooked', '1...</td>\n",
       "    </tr>\n",
       "  </tbody>\n",
       "</table>\n",
       "</div>"
      ],
      "text/plain": [
       "                                         Ingredients\n",
       "0  ['1/2 cup celery, finely chopped', '1 small gr...\n",
       "1  ['2 pounds skirt steak, cut into 1/2-inch dice...\n",
       "2  ['1 1/2 cups dried black beans, picked over an...\n",
       "3  ['1 1/4 pounds ground chuck', 'One 15-ounce ca...\n",
       "4  ['1 cup rice, brown, medium-grain, cooked', '1..."
      ]
     },
     "execution_count": 35,
     "metadata": {},
     "output_type": "execute_result"
    }
   ],
   "source": [
    "labeled_docs.head()"
   ]
  },
  {
   "cell_type": "code",
   "execution_count": 14,
   "metadata": {},
   "outputs": [],
   "source": [
    "# Remove numbers, append each ingredients recipes to a list\n",
    "import re\n",
    "import string\n",
    "truncs = []\n",
    "for doc in labeled_docs['Ingredients']:\n",
    "    truncs.append(re.sub('\\w*\\d\\w*', '', doc))"
   ]
  },
  {
   "cell_type": "code",
   "execution_count": 9,
   "metadata": {},
   "outputs": [],
   "source": [
    "# Externally defined stop words list comprehension\n",
    "stops = [stop for stop in stops]"
   ]
  },
  {
   "cell_type": "code",
   "execution_count": 82,
   "metadata": {},
   "outputs": [],
   "source": [
    "# Internally defined stop words\n",
    "please_stop = ['chopped', 'crushed', 'diced', 'seeded', 'ground', 'sliced', 'grated', 'roasted', 'softened',\n",
    "               'salted', 'unsalted', 'mixed', 'blanched', 'cooked', 'uncooked', 'peeled', 'unpeeled', 'halved',\n",
    "               'dried', 'cleaned', 'prepared', 'pasteurized', 'cubed', 'powdered', 'drained', 'undrained',\n",
    "               'smashed', 'halved', 'quartered', 'squeezed', 'spiced', 'cut', 'uncut', 'melted', 'juiced',\n",
    "               'granulated',\n",
    "               \n",
    "               'finely', 'coarsely', 'roughly', 'freshly', 'thinly', 'thickly',\n",
    "               \n",
    "               'pound', 'pounds, ''teaspoon', 'teaspoons', 'tablespoon', 'tablespoons', 'tbs', \n",
    "               'dash', 'dashes', 'pinch', 'pinches', 'piece', 'pieces',\n",
    "               'dollop', 'cubes', \n",
    "               'inch', 'inches', 'cup', 'cups', 'ounce', 'oz', 'ounces', 'can', \n",
    "               'half', 'quarter', 'one', 'two',\n",
    "               \n",
    "               'kosher', 'fresh', 'small', 'large', 'liquid', 'dry', 'dark', 'white', 'crusty', 'medium', \n",
    "               'raw', 'sharp', 'sweet', 'baby', 'long', 'wide', 'flat-leaf', 'extra', 'virgin', 'thick',\n",
    "               'optional', 'heavy', 'warm', 'cold',\n",
    "               \n",
    "               'and', 'into', 'the', 'for', 'with', 'less', 'more', 'without', 'see', 'know-how', 'below',\n",
    "               'about', 'good', 'or', 'all', 'follow', 'follows', 'only',\n",
    "               \n",
    "               'serving', 'servings', 'reserving', 'suggestion', 'garnish', 'leaf', 'leaves', 'grain', \n",
    "               'peel', 'seed', \n",
    "               'stick', 'pods', 'drizzling', 'sprig', 'sprigs', 'head', 'stalk', 'stalks', 'wedges', 'wedge',\n",
    "               'clove', 'cloves', 'seasoning', 'wing', 'wings', 'breast', 'breasts', 'thigh', 'thighs', 'leg',\n",
    "               'legs', 'fillet', 'fillets', 'frying', 'product', 'powder', 'strip', 'strips', 'purpose', 'recipe',\n",
    "               'pieces', 'bag', 'cooking', \n",
    "               \n",
    "               'asian', 'oriental', 'french', 'italian', '_gravií', 'accentsä',\n",
    "               'ës', 'ët', 'ëthick', 'í_a', 'íâme', 'íæ', 'íç', 'íçngel', 'íçrbol',\n",
    "               'íó', 'äóîbut', 'äóîusing', 'äóñ', 'äóñounce', 'äóô', 'ë_', 'ë_me', 'ëfoot',\n",
    "               'ëinch', 'ëll', 'ác', 'áf', 'áto', 'áäó', 'äó', 'äó_', 'äóî']"
   ]
  },
  {
   "cell_type": "code",
   "execution_count": 2,
   "metadata": {
    "collapsed": true
   },
   "outputs": [
    {
     "ename": "NameError",
     "evalue": "name 'stops' is not defined",
     "output_type": "error",
     "traceback": [
      "\u001b[0;31m---------------------------------------------------------------------------\u001b[0m",
      "\u001b[0;31mNameError\u001b[0m                                 Traceback (most recent call last)",
      "\u001b[0;32m<ipython-input-2-2154e9513e40>\u001b[0m in \u001b[0;36m<module>\u001b[0;34m\u001b[0m\n\u001b[1;32m      1\u001b[0m \u001b[0;31m# Both sets of stop words\u001b[0m\u001b[0;34m\u001b[0m\u001b[0;34m\u001b[0m\u001b[0;34m\u001b[0m\u001b[0m\n\u001b[0;32m----> 2\u001b[0;31m \u001b[0mbig_stop\u001b[0m \u001b[0;34m=\u001b[0m \u001b[0mset\u001b[0m\u001b[0;34m(\u001b[0m\u001b[0mstops\u001b[0m \u001b[0;34m+\u001b[0m \u001b[0mplease_stop\u001b[0m\u001b[0;34m)\u001b[0m\u001b[0;34m\u001b[0m\u001b[0;34m\u001b[0m\u001b[0m\n\u001b[0m",
      "\u001b[0;31mNameError\u001b[0m: name 'stops' is not defined"
     ]
    }
   ],
   "source": [
    "# Both stop words lists together\n",
    "big_stop = set(stops + please_stop)"
   ]
  },
  {
   "cell_type": "code",
   "execution_count": null,
   "metadata": {},
   "outputs": [],
   "source": [
    "# Save final stop word list for ease of loading\n",
    "#pd.Series([big_stop]).to_csv('ing_stop_words.csv')"
   ]
  },
  {
   "cell_type": "markdown",
   "metadata": {},
   "source": [
    "### Tfidf Vectorization of recipe list with stop words"
   ]
  },
  {
   "cell_type": "code",
   "execution_count": 15,
   "metadata": {},
   "outputs": [],
   "source": [
    "from sklearn.feature_extraction.text import TfidfVectorizer"
   ]
  },
  {
   "cell_type": "code",
   "execution_count": 84,
   "metadata": {},
   "outputs": [],
   "source": [
    "rec_tfidf = TfidfVectorizer(stop_words=big_stop)\n",
    "X = rec_tfidf.fit_transform([doc for doc in truncs])\n",
    "rec_vec = pd.DataFrame(X.toarray(), columns=rec_tfidf.get_feature_names())"
   ]
  },
  {
   "cell_type": "code",
   "execution_count": 89,
   "metadata": {},
   "outputs": [
    {
     "data": {
      "text/html": [
       "<div>\n",
       "<style scoped>\n",
       "    .dataframe tbody tr th:only-of-type {\n",
       "        vertical-align: middle;\n",
       "    }\n",
       "\n",
       "    .dataframe tbody tr th {\n",
       "        vertical-align: top;\n",
       "    }\n",
       "\n",
       "    .dataframe thead th {\n",
       "        text-align: right;\n",
       "    }\n",
       "</style>\n",
       "<table border=\"1\" class=\"dataframe\">\n",
       "  <thead>\n",
       "    <tr style=\"text-align: right;\">\n",
       "      <th></th>\n",
       "      <th>abalone</th>\n",
       "      <th>absinth</th>\n",
       "      <th>absinthe</th>\n",
       "      <th>aburaage</th>\n",
       "      <th>aburage</th>\n",
       "      <th>acacia</th>\n",
       "      <th>acadoä</th>\n",
       "      <th>acai</th>\n",
       "      <th>acerola</th>\n",
       "      <th>aceto</th>\n",
       "      <th>...</th>\n",
       "      <th>zests</th>\n",
       "      <th>zhoug</th>\n",
       "      <th>zin</th>\n",
       "      <th>zinfandel</th>\n",
       "      <th>zinfindel</th>\n",
       "      <th>zingermans</th>\n",
       "      <th>ziti</th>\n",
       "      <th>zucchini</th>\n",
       "      <th>zucchinis</th>\n",
       "      <th>zuchinni</th>\n",
       "    </tr>\n",
       "  </thead>\n",
       "  <tbody>\n",
       "    <tr>\n",
       "      <th>0</th>\n",
       "      <td>0.0</td>\n",
       "      <td>0.0</td>\n",
       "      <td>0.0</td>\n",
       "      <td>0.0</td>\n",
       "      <td>0.0</td>\n",
       "      <td>0.0</td>\n",
       "      <td>0.0</td>\n",
       "      <td>0.0</td>\n",
       "      <td>0.0</td>\n",
       "      <td>0.0</td>\n",
       "      <td>...</td>\n",
       "      <td>0.0</td>\n",
       "      <td>0.0</td>\n",
       "      <td>0.0</td>\n",
       "      <td>0.0</td>\n",
       "      <td>0.0</td>\n",
       "      <td>0.0</td>\n",
       "      <td>0.0</td>\n",
       "      <td>0.0</td>\n",
       "      <td>0.0</td>\n",
       "      <td>0.0</td>\n",
       "    </tr>\n",
       "    <tr>\n",
       "      <th>1</th>\n",
       "      <td>0.0</td>\n",
       "      <td>0.0</td>\n",
       "      <td>0.0</td>\n",
       "      <td>0.0</td>\n",
       "      <td>0.0</td>\n",
       "      <td>0.0</td>\n",
       "      <td>0.0</td>\n",
       "      <td>0.0</td>\n",
       "      <td>0.0</td>\n",
       "      <td>0.0</td>\n",
       "      <td>...</td>\n",
       "      <td>0.0</td>\n",
       "      <td>0.0</td>\n",
       "      <td>0.0</td>\n",
       "      <td>0.0</td>\n",
       "      <td>0.0</td>\n",
       "      <td>0.0</td>\n",
       "      <td>0.0</td>\n",
       "      <td>0.0</td>\n",
       "      <td>0.0</td>\n",
       "      <td>0.0</td>\n",
       "    </tr>\n",
       "    <tr>\n",
       "      <th>2</th>\n",
       "      <td>0.0</td>\n",
       "      <td>0.0</td>\n",
       "      <td>0.0</td>\n",
       "      <td>0.0</td>\n",
       "      <td>0.0</td>\n",
       "      <td>0.0</td>\n",
       "      <td>0.0</td>\n",
       "      <td>0.0</td>\n",
       "      <td>0.0</td>\n",
       "      <td>0.0</td>\n",
       "      <td>...</td>\n",
       "      <td>0.0</td>\n",
       "      <td>0.0</td>\n",
       "      <td>0.0</td>\n",
       "      <td>0.0</td>\n",
       "      <td>0.0</td>\n",
       "      <td>0.0</td>\n",
       "      <td>0.0</td>\n",
       "      <td>0.0</td>\n",
       "      <td>0.0</td>\n",
       "      <td>0.0</td>\n",
       "    </tr>\n",
       "    <tr>\n",
       "      <th>3</th>\n",
       "      <td>0.0</td>\n",
       "      <td>0.0</td>\n",
       "      <td>0.0</td>\n",
       "      <td>0.0</td>\n",
       "      <td>0.0</td>\n",
       "      <td>0.0</td>\n",
       "      <td>0.0</td>\n",
       "      <td>0.0</td>\n",
       "      <td>0.0</td>\n",
       "      <td>0.0</td>\n",
       "      <td>...</td>\n",
       "      <td>0.0</td>\n",
       "      <td>0.0</td>\n",
       "      <td>0.0</td>\n",
       "      <td>0.0</td>\n",
       "      <td>0.0</td>\n",
       "      <td>0.0</td>\n",
       "      <td>0.0</td>\n",
       "      <td>0.0</td>\n",
       "      <td>0.0</td>\n",
       "      <td>0.0</td>\n",
       "    </tr>\n",
       "    <tr>\n",
       "      <th>4</th>\n",
       "      <td>0.0</td>\n",
       "      <td>0.0</td>\n",
       "      <td>0.0</td>\n",
       "      <td>0.0</td>\n",
       "      <td>0.0</td>\n",
       "      <td>0.0</td>\n",
       "      <td>0.0</td>\n",
       "      <td>0.0</td>\n",
       "      <td>0.0</td>\n",
       "      <td>0.0</td>\n",
       "      <td>...</td>\n",
       "      <td>0.0</td>\n",
       "      <td>0.0</td>\n",
       "      <td>0.0</td>\n",
       "      <td>0.0</td>\n",
       "      <td>0.0</td>\n",
       "      <td>0.0</td>\n",
       "      <td>0.0</td>\n",
       "      <td>0.0</td>\n",
       "      <td>0.0</td>\n",
       "      <td>0.0</td>\n",
       "    </tr>\n",
       "    <tr>\n",
       "      <th>...</th>\n",
       "      <td>...</td>\n",
       "      <td>...</td>\n",
       "      <td>...</td>\n",
       "      <td>...</td>\n",
       "      <td>...</td>\n",
       "      <td>...</td>\n",
       "      <td>...</td>\n",
       "      <td>...</td>\n",
       "      <td>...</td>\n",
       "      <td>...</td>\n",
       "      <td>...</td>\n",
       "      <td>...</td>\n",
       "      <td>...</td>\n",
       "      <td>...</td>\n",
       "      <td>...</td>\n",
       "      <td>...</td>\n",
       "      <td>...</td>\n",
       "      <td>...</td>\n",
       "      <td>...</td>\n",
       "      <td>...</td>\n",
       "      <td>...</td>\n",
       "    </tr>\n",
       "    <tr>\n",
       "      <th>124642</th>\n",
       "      <td>0.0</td>\n",
       "      <td>0.0</td>\n",
       "      <td>0.0</td>\n",
       "      <td>0.0</td>\n",
       "      <td>0.0</td>\n",
       "      <td>0.0</td>\n",
       "      <td>0.0</td>\n",
       "      <td>0.0</td>\n",
       "      <td>0.0</td>\n",
       "      <td>0.0</td>\n",
       "      <td>...</td>\n",
       "      <td>0.0</td>\n",
       "      <td>0.0</td>\n",
       "      <td>0.0</td>\n",
       "      <td>0.0</td>\n",
       "      <td>0.0</td>\n",
       "      <td>0.0</td>\n",
       "      <td>0.0</td>\n",
       "      <td>0.0</td>\n",
       "      <td>0.0</td>\n",
       "      <td>0.0</td>\n",
       "    </tr>\n",
       "    <tr>\n",
       "      <th>124643</th>\n",
       "      <td>0.0</td>\n",
       "      <td>0.0</td>\n",
       "      <td>0.0</td>\n",
       "      <td>0.0</td>\n",
       "      <td>0.0</td>\n",
       "      <td>0.0</td>\n",
       "      <td>0.0</td>\n",
       "      <td>0.0</td>\n",
       "      <td>0.0</td>\n",
       "      <td>0.0</td>\n",
       "      <td>...</td>\n",
       "      <td>0.0</td>\n",
       "      <td>0.0</td>\n",
       "      <td>0.0</td>\n",
       "      <td>0.0</td>\n",
       "      <td>0.0</td>\n",
       "      <td>0.0</td>\n",
       "      <td>0.0</td>\n",
       "      <td>0.0</td>\n",
       "      <td>0.0</td>\n",
       "      <td>0.0</td>\n",
       "    </tr>\n",
       "    <tr>\n",
       "      <th>124644</th>\n",
       "      <td>0.0</td>\n",
       "      <td>0.0</td>\n",
       "      <td>0.0</td>\n",
       "      <td>0.0</td>\n",
       "      <td>0.0</td>\n",
       "      <td>0.0</td>\n",
       "      <td>0.0</td>\n",
       "      <td>0.0</td>\n",
       "      <td>0.0</td>\n",
       "      <td>0.0</td>\n",
       "      <td>...</td>\n",
       "      <td>0.0</td>\n",
       "      <td>0.0</td>\n",
       "      <td>0.0</td>\n",
       "      <td>0.0</td>\n",
       "      <td>0.0</td>\n",
       "      <td>0.0</td>\n",
       "      <td>0.0</td>\n",
       "      <td>0.0</td>\n",
       "      <td>0.0</td>\n",
       "      <td>0.0</td>\n",
       "    </tr>\n",
       "    <tr>\n",
       "      <th>124645</th>\n",
       "      <td>0.0</td>\n",
       "      <td>0.0</td>\n",
       "      <td>0.0</td>\n",
       "      <td>0.0</td>\n",
       "      <td>0.0</td>\n",
       "      <td>0.0</td>\n",
       "      <td>0.0</td>\n",
       "      <td>0.0</td>\n",
       "      <td>0.0</td>\n",
       "      <td>0.0</td>\n",
       "      <td>...</td>\n",
       "      <td>0.0</td>\n",
       "      <td>0.0</td>\n",
       "      <td>0.0</td>\n",
       "      <td>0.0</td>\n",
       "      <td>0.0</td>\n",
       "      <td>0.0</td>\n",
       "      <td>0.0</td>\n",
       "      <td>0.0</td>\n",
       "      <td>0.0</td>\n",
       "      <td>0.0</td>\n",
       "    </tr>\n",
       "    <tr>\n",
       "      <th>124646</th>\n",
       "      <td>0.0</td>\n",
       "      <td>0.0</td>\n",
       "      <td>0.0</td>\n",
       "      <td>0.0</td>\n",
       "      <td>0.0</td>\n",
       "      <td>0.0</td>\n",
       "      <td>0.0</td>\n",
       "      <td>0.0</td>\n",
       "      <td>0.0</td>\n",
       "      <td>0.0</td>\n",
       "      <td>...</td>\n",
       "      <td>0.0</td>\n",
       "      <td>0.0</td>\n",
       "      <td>0.0</td>\n",
       "      <td>0.0</td>\n",
       "      <td>0.0</td>\n",
       "      <td>0.0</td>\n",
       "      <td>0.0</td>\n",
       "      <td>0.0</td>\n",
       "      <td>0.0</td>\n",
       "      <td>0.0</td>\n",
       "    </tr>\n",
       "  </tbody>\n",
       "</table>\n",
       "<p>124647 rows × 4315 columns</p>\n",
       "</div>"
      ],
      "text/plain": [
       "        abalone  absinth  absinthe  aburaage  aburage  acacia  acadoä  acai  \\\n",
       "0           0.0      0.0       0.0       0.0      0.0     0.0     0.0   0.0   \n",
       "1           0.0      0.0       0.0       0.0      0.0     0.0     0.0   0.0   \n",
       "2           0.0      0.0       0.0       0.0      0.0     0.0     0.0   0.0   \n",
       "3           0.0      0.0       0.0       0.0      0.0     0.0     0.0   0.0   \n",
       "4           0.0      0.0       0.0       0.0      0.0     0.0     0.0   0.0   \n",
       "...         ...      ...       ...       ...      ...     ...     ...   ...   \n",
       "124642      0.0      0.0       0.0       0.0      0.0     0.0     0.0   0.0   \n",
       "124643      0.0      0.0       0.0       0.0      0.0     0.0     0.0   0.0   \n",
       "124644      0.0      0.0       0.0       0.0      0.0     0.0     0.0   0.0   \n",
       "124645      0.0      0.0       0.0       0.0      0.0     0.0     0.0   0.0   \n",
       "124646      0.0      0.0       0.0       0.0      0.0     0.0     0.0   0.0   \n",
       "\n",
       "        acerola  aceto  ...  zests  zhoug  zin  zinfandel  zinfindel  \\\n",
       "0           0.0    0.0  ...    0.0    0.0  0.0        0.0        0.0   \n",
       "1           0.0    0.0  ...    0.0    0.0  0.0        0.0        0.0   \n",
       "2           0.0    0.0  ...    0.0    0.0  0.0        0.0        0.0   \n",
       "3           0.0    0.0  ...    0.0    0.0  0.0        0.0        0.0   \n",
       "4           0.0    0.0  ...    0.0    0.0  0.0        0.0        0.0   \n",
       "...         ...    ...  ...    ...    ...  ...        ...        ...   \n",
       "124642      0.0    0.0  ...    0.0    0.0  0.0        0.0        0.0   \n",
       "124643      0.0    0.0  ...    0.0    0.0  0.0        0.0        0.0   \n",
       "124644      0.0    0.0  ...    0.0    0.0  0.0        0.0        0.0   \n",
       "124645      0.0    0.0  ...    0.0    0.0  0.0        0.0        0.0   \n",
       "124646      0.0    0.0  ...    0.0    0.0  0.0        0.0        0.0   \n",
       "\n",
       "        zingermans  ziti  zucchini  zucchinis  zuchinni  \n",
       "0              0.0   0.0       0.0        0.0       0.0  \n",
       "1              0.0   0.0       0.0        0.0       0.0  \n",
       "2              0.0   0.0       0.0        0.0       0.0  \n",
       "3              0.0   0.0       0.0        0.0       0.0  \n",
       "4              0.0   0.0       0.0        0.0       0.0  \n",
       "...            ...   ...       ...        ...       ...  \n",
       "124642         0.0   0.0       0.0        0.0       0.0  \n",
       "124643         0.0   0.0       0.0        0.0       0.0  \n",
       "124644         0.0   0.0       0.0        0.0       0.0  \n",
       "124645         0.0   0.0       0.0        0.0       0.0  \n",
       "124646         0.0   0.0       0.0        0.0       0.0  \n",
       "\n",
       "[124647 rows x 4315 columns]"
      ]
     },
     "execution_count": 89,
     "metadata": {},
     "output_type": "execute_result"
    }
   ],
   "source": [
    "rec_vec"
   ]
  },
  {
   "cell_type": "code",
   "execution_count": 90,
   "metadata": {},
   "outputs": [],
   "source": [
    "# Save tfidf vectorized recipes\n",
    "#rec_vec.to_csv('rec_tfidfs.csv')"
   ]
  },
  {
   "cell_type": "markdown",
   "metadata": {},
   "source": [
    "### Find a good number of clusters, then cluster tfidf recipes"
   ]
  },
  {
   "cell_type": "code",
   "execution_count": null,
   "metadata": {},
   "outputs": [],
   "source": [
    "from sklearn.cluster import MiniBatchKMeans\n",
    "import matplotlib.pyplot as plt\n",
    "import numpy as np"
   ]
  },
  {
   "cell_type": "code",
   "execution_count": 92,
   "metadata": {},
   "outputs": [],
   "source": [
    "# Load recipe tfidf here\n",
    "data = rec_vec"
   ]
  },
  {
   "cell_type": "code",
   "execution_count": 96,
   "metadata": {},
   "outputs": [],
   "source": [
    "# Define cluster function\n",
    "def find_optimal_clusters(data, max_k):\n",
    "    iters = range(2, max_k+1, 2)\n",
    "    \n",
    "    sse = []\n",
    "    for k in iters:\n",
    "        sse.append(MiniBatchKMeans(n_clusters=k, init_size=1024, batch_size=2048, random_state=20).fit(data).inertia_)\n",
    "        print('Fit {} clusters'.format(k))\n",
    "        \n",
    "    f, ax = plt.subplots(1, 1)\n",
    "    ax.plot(iters, sse, marker='o')\n",
    "    ax.set_xlabel('Cluster Centers')\n",
    "    ax.set_xticks(iters)\n",
    "    ax.set_xticklabels(iters)\n",
    "    ax.set_ylabel('SSE')\n",
    "    ax.set_title('SSE by Cluster Center Plot')"
   ]
  },
  {
   "cell_type": "code",
   "execution_count": 100,
   "metadata": {},
   "outputs": [
    {
     "name": "stdout",
     "output_type": "stream",
     "text": [
      "Fit 2 clusters\n",
      "Fit 4 clusters\n",
      "Fit 6 clusters\n",
      "Fit 8 clusters\n",
      "Fit 10 clusters\n",
      "Fit 12 clusters\n",
      "Fit 14 clusters\n",
      "Fit 16 clusters\n",
      "Fit 18 clusters\n",
      "Fit 20 clusters\n",
      "Fit 22 clusters\n",
      "Fit 24 clusters\n"
     ]
    },
    {
     "data": {
      "image/png": "[encoded data removed]",
      "text/plain": [
       "<Figure size 432x288 with 1 Axes>"
      ]
     },
     "metadata": {
      "needs_background": "light"
     },
     "output_type": "display_data"
    }
   ],
   "source": [
    "find_optimal_clusters(data, 24)"
   ]
  },
  {
   "cell_type": "code",
   "execution_count": null,
   "metadata": {},
   "outputs": [],
   "source": [
    "# Elbow at 14, we'll stick with 14"
   ]
  },
  {
   "cell_type": "code",
   "execution_count": 102,
   "metadata": {},
   "outputs": [],
   "source": [
    "# Label all recipes to with its cluster\n",
    "clusters = MiniBatchKMeans(n_clusters=14, init_size=1024, batch_size=2048, random_state=20).fit_predict(data)"
   ]
  },
  {
   "cell_type": "code",
   "execution_count": 112,
   "metadata": {},
   "outputs": [],
   "source": [
    "# Save the cluster labels\n",
    "#pd.Series(clusters).to_csv('TFIDF_Cluster_Labels.csv')"
   ]
  },
  {
   "cell_type": "markdown",
   "metadata": {},
   "source": [
    "## Create a histogram for our clusters"
   ]
  },
  {
   "cell_type": "code",
   "execution_count": 5,
   "metadata": {},
   "outputs": [],
   "source": [
    "cluster_labels = pd.read_csv('TFIDF_Cluster_Labels.csv')"
   ]
  },
  {
   "cell_type": "code",
   "execution_count": 81,
   "metadata": {},
   "outputs": [
    {
     "data": {
      "text/plain": [
       "0     21320\n",
       "10    15191\n",
       "7     12298\n",
       "2     10327\n",
       "8      9029\n",
       "9      8680\n",
       "4      8457\n",
       "12     7829\n",
       "3      7047\n",
       "11     7005\n",
       "5      5200\n",
       "6      4936\n",
       "13     3993\n",
       "1      3335\n",
       "Name: 0, dtype: int64"
      ]
     },
     "execution_count": 81,
     "metadata": {},
     "output_type": "execute_result"
    }
   ],
   "source": [
    "cluster_labels['0'].value_counts()"
   ]
  },
  {
   "cell_type": "code",
   "execution_count": 9,
   "metadata": {},
   "outputs": [],
   "source": [
    "label_hist = cluster_labels['0'].value_counts()"
   ]
  },
  {
   "cell_type": "code",
   "execution_count": 32,
   "metadata": {
    "scrolled": true
   },
   "outputs": [
    {
     "data": {
      "image/png": "[encoded data removed]",
      "text/plain": [
       "<Figure size 576x360 with 1 Axes>"
      ]
     },
     "metadata": {},
     "output_type": "display_data"
    }
   ],
   "source": [
    "sns.set_theme(style=\"white\",\n",
    "              palette = sns.color_palette(\"Spectral\"))\n",
    "\n",
    "f, ax = plt.subplots(figsize=(8, 5))\n",
    "sns.despine(f)\n",
    "\n",
    "sns.histplot(cluster_labels['0'], color='purple')\n",
    "plt.title('Web Recipe Cluster Distribution',family='serif',fontsize = 20,\n",
    "          loc='right',color='g')\n",
    "plt.xlabel('Cluster',fontsize = 14,family='serif', color='g')\n",
    "plt.ylabel('Count',fontsize = 14,family='serif', color='g')\n",
    ";\n",
    "\n",
    "#ax.xaxis.set_major_formatter(mpl.ticker.ScalarFormatter())\n",
    "ax.set_xticks(np.arange(0,14));\n",
    "#plt.savefig('web_rec_clusters.png')"
   ]
  },
  {
   "cell_type": "markdown",
   "metadata": {},
   "source": [
    "## Create a histogram from the Nature data as well showing the class imbalance"
   ]
  },
  {
   "cell_type": "code",
   "execution_count": 34,
   "metadata": {},
   "outputs": [],
   "source": [
    "# Red in \n",
    "regions = pd.read_csv('region_recs.csv')"
   ]
  },
  {
   "cell_type": "code",
   "execution_count": 43,
   "metadata": {},
   "outputs": [],
   "source": [
    "new_reg = regions.groupby('Region').count()"
   ]
  },
  {
   "cell_type": "code",
   "execution_count": 52,
   "metadata": {
    "scrolled": true
   },
   "outputs": [
    {
     "data": {
      "text/html": [
       "<div>\n",
       "<style scoped>\n",
       "    .dataframe tbody tr th:only-of-type {\n",
       "        vertical-align: middle;\n",
       "    }\n",
       "\n",
       "    .dataframe tbody tr th {\n",
       "        vertical-align: top;\n",
       "    }\n",
       "\n",
       "    .dataframe thead th {\n",
       "        text-align: right;\n",
       "    }\n",
       "</style>\n",
       "<table border=\"1\" class=\"dataframe\">\n",
       "  <thead>\n",
       "    <tr style=\"text-align: right;\">\n",
       "      <th></th>\n",
       "      <th>Unnamed: 0</th>\n",
       "    </tr>\n",
       "    <tr>\n",
       "      <th>Region</th>\n",
       "      <th></th>\n",
       "    </tr>\n",
       "  </thead>\n",
       "  <tbody>\n",
       "    <tr>\n",
       "      <th>African</th>\n",
       "      <td>352</td>\n",
       "    </tr>\n",
       "    <tr>\n",
       "      <th>EastAsian</th>\n",
       "      <td>2512</td>\n",
       "    </tr>\n",
       "    <tr>\n",
       "      <th>EasternEuropean</th>\n",
       "      <td>381</td>\n",
       "    </tr>\n",
       "    <tr>\n",
       "      <th>LatinAmerican</th>\n",
       "      <td>2917</td>\n",
       "    </tr>\n",
       "    <tr>\n",
       "      <th>MiddleEastern</th>\n",
       "      <td>645</td>\n",
       "    </tr>\n",
       "    <tr>\n",
       "      <th>NorthAmerican</th>\n",
       "      <td>41524</td>\n",
       "    </tr>\n",
       "    <tr>\n",
       "      <th>NorthernEuropean</th>\n",
       "      <td>250</td>\n",
       "    </tr>\n",
       "    <tr>\n",
       "      <th>SouthAsian</th>\n",
       "      <td>621</td>\n",
       "    </tr>\n",
       "    <tr>\n",
       "      <th>SoutheastAsian</th>\n",
       "      <td>457</td>\n",
       "    </tr>\n",
       "    <tr>\n",
       "      <th>SouthernEuropean</th>\n",
       "      <td>4180</td>\n",
       "    </tr>\n",
       "    <tr>\n",
       "      <th>WesternEuropean</th>\n",
       "      <td>2659</td>\n",
       "    </tr>\n",
       "  </tbody>\n",
       "</table>\n",
       "</div>"
      ],
      "text/plain": [
       "                  Unnamed: 0\n",
       "Region                      \n",
       "African                  352\n",
       "EastAsian               2512\n",
       "EasternEuropean          381\n",
       "LatinAmerican           2917\n",
       "MiddleEastern            645\n",
       "NorthAmerican          41524\n",
       "NorthernEuropean         250\n",
       "SouthAsian               621\n",
       "SoutheastAsian           457\n",
       "SouthernEuropean        4180\n",
       "WesternEuropean         2659"
      ]
     },
     "execution_count": 52,
     "metadata": {},
     "output_type": "execute_result"
    }
   ],
   "source": [
    "new_reg"
   ]
  },
  {
   "cell_type": "code",
   "execution_count": 76,
   "metadata": {},
   "outputs": [],
   "source": [
    "reglabels = ['African', 'EastAsian', 'EasternEuropean', 'LatinAmerican', \n",
    "           'MiddleEastern',  'NorthAmerican',  'NorthernEuropean',\n",
    "           'SouthAsian', 'SoutheastAsian', 'SouthernEuropean', \n",
    "           'WesternEuropean']"
   ]
  },
  {
   "cell_type": "code",
   "execution_count": 66,
   "metadata": {},
   "outputs": [],
   "source": [
    "reglabs = ['AF', 'EA', 'EE', 'LA', 'ME', 'NA', 'NE', 'SA', 'SEA', 'SE', 'WE']"
   ]
  },
  {
   "cell_type": "code",
   "execution_count": 80,
   "metadata": {},
   "outputs": [
    {
     "name": "stderr",
     "output_type": "stream",
     "text": [
      "<ipython-input-80-c8f8d7fded80>:12: UserWarning: FixedFormatter should only be used together with FixedLocator\n",
      "  ax.set_xticklabels(reglabs)\n"
     ]
    },
    {
     "data": {
      "image/png": "[encoded data removed]",
      "text/plain": [
       "<Figure size 576x360 with 1 Axes>"
      ]
     },
     "metadata": {},
     "output_type": "display_data"
    }
   ],
   "source": [
    "sns.set_theme(style=\"white\",\n",
    "              palette = sns.color_palette(\"Spectral\"))\n",
    "\n",
    "f, ax = plt.subplots(figsize=(8, 5))\n",
    "sns.despine(f)\n",
    "\n",
    "sns.histplot(regions.Region, color='purple')\n",
    "plt.title('Regional Recipe Distribution',family='serif',fontsize = 20,\n",
    "          loc='right',color='g')\n",
    "plt.xlabel('Cluster',fontsize = 14,family='serif', color='g')\n",
    "plt.ylabel('Count',fontsize = 14,family='serif', color='g')\n",
    "ax.set_xticklabels(reglabs)\n",
    "#plt.legend(reglabels,loc = 0);\n",
    "\n",
    "#ax.xaxis.set_major_formatter(mpl.ticker.ScalarFormatter())\n",
    "#ax.set_xticks(reglabs);\n",
    "plt.savefig('region_rec_clusters.png')"
   ]
  },
  {
   "cell_type": "code",
   "execution_count": 12,
   "metadata": {},
   "outputs": [
    {
     "data": {
      "text/plain": [
       "Int64Index([0, 10, 7, 2, 8, 9, 4, 12, 3, 11, 5, 6, 13, 1], dtype='int64')"
      ]
     },
     "execution_count": 12,
     "metadata": {},
     "output_type": "execute_result"
    }
   ],
   "source": [
    "label_hist.index"
   ]
  },
  {
   "cell_type": "code",
   "execution_count": null,
   "metadata": {},
   "outputs": [],
   "source": []
  }
 ],
 "metadata": {
  "kernelspec": {
   "display_name": "Python 3",
   "language": "python",
   "name": "python3"
  },
  "language_info": {
   "codemirror_mode": {
    "name": "ipython",
    "version": 3
   },
   "file_extension": ".py",
   "mimetype": "text/x-python",
   "name": "python",
   "nbconvert_exporter": "python",
   "pygments_lexer": "ipython3",
   "version": "3.8.5"
  }
 },
 "nbformat": 4,
 "nbformat_minor": 4
}
