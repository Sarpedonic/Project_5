{
 "cells": [
  {
   "cell_type": "markdown",
   "metadata": {},
   "source": [
    "# Chord charts and the Flavor Generator"
   ]
  },
  {
   "cell_type": "code",
   "execution_count": 2,
   "metadata": {},
   "outputs": [],
   "source": [
    "import pandas as pd\n",
    "import numpy as np\n",
    "from chord import Chord\n",
    "import random"
   ]
  },
  {
   "cell_type": "code",
   "execution_count": 3,
   "metadata": {},
   "outputs": [
    {
     "name": "stderr",
     "output_type": "stream",
     "text": [
      "/opt/anaconda3/lib/python3.8/site-packages/IPython/core/interactiveshell.py:3146: DtypeWarning: Columns (30,31,32) have mixed types.Specify dtype option on import or set low_memory=False.\n",
      "  has_raised = await self.run_ast_nodes(code_ast.body, cell_name,\n"
     ]
    }
   ],
   "source": [
    "# Load and set up data\n",
    "dishes = pd.read_csv('Data/dish_components.csv',error_bad_lines=False)\n",
    "numdish = len(dishes)\n",
    "dishes = dishes.T\n",
    "dishes = dishes.dropna(how='all')\n",
    "compounds = pd.read_csv('Data/shared_compounds.csv')\n",
    "combinatrix = compounds.groupby(['First Ingredient','Second Ingredient']).sum()"
   ]
  },
  {
   "cell_type": "markdown",
   "metadata": {},
   "source": [
    "# Random dish to flavor Chord chart"
   ]
  },
  {
   "cell_type": "code",
   "execution_count": 46,
   "metadata": {},
   "outputs": [],
   "source": [
    "# Pick out a random dish\n",
    "rand_dish = int(np.random.randint(numdish, size=1))"
   ]
  },
  {
   "cell_type": "code",
   "execution_count": 47,
   "metadata": {
    "scrolled": true
   },
   "outputs": [
    {
     "data": {
      "text/plain": [
       "Ingredient 1            butter\n",
       "Ingredient 2             wheat\n",
       "Ingredient 3          mushroom\n",
       "Ingredient 4             yeast\n",
       "Ingredient 5         asparagus\n",
       "Ingredient 6    cheddar_cheese\n",
       "Ingredient 7               egg\n",
       "Name: 44934, dtype: object"
      ]
     },
     "execution_count": 47,
     "metadata": {},
     "output_type": "execute_result"
    }
   ],
   "source": [
    "# Look up the recipe, get the ingredients\n",
    "recipe = dishes[rand_dish]\n",
    "recipe = recipe.dropna()\n",
    "recipe = recipe[1:][0:]\n",
    "compon = [ing for ing in recipe]\n",
    "recipe"
   ]
  },
  {
   "cell_type": "code",
   "execution_count": 48,
   "metadata": {},
   "outputs": [],
   "source": [
    "# Loop through the ingredients and record values for shared flavor compounds\n",
    "components = []\n",
    "\n",
    "for i in range(0,len(compon)):\n",
    "    for j in range(0,len(compon)):\n",
    "        try: \n",
    "            components.append(int(combinatrix.loc[compon[i], compon[j]]))\n",
    "        except KeyError:\n",
    "            components.append(0)\n",
    "    "
   ]
  },
  {
   "cell_type": "code",
   "execution_count": 49,
   "metadata": {},
   "outputs": [],
   "source": [
    "# Make list into array\n",
    "component_array = np.array(components).reshape((len(recipe),len(recipe)))\n",
    "\n",
    "# Creates DataFrame and Matrix as a list.\n",
    "cereals = pd.DataFrame(component_array, index=compon, columns=compon)\n",
    "\n",
    "# Make symmetrical for chord chart\n",
    "cereals = cereals + cereals.T\n",
    "\n",
    "hops = cereals.values.tolist()"
   ]
  },
  {
   "cell_type": "code",
   "execution_count": 51,
   "metadata": {},
   "outputs": [
    {
     "data": {
      "text/html": [
       "<div>\n",
       "<style scoped>\n",
       "    .dataframe tbody tr th:only-of-type {\n",
       "        vertical-align: middle;\n",
       "    }\n",
       "\n",
       "    .dataframe tbody tr th {\n",
       "        vertical-align: top;\n",
       "    }\n",
       "\n",
       "    .dataframe thead th {\n",
       "        text-align: right;\n",
       "    }\n",
       "</style>\n",
       "<table border=\"1\" class=\"dataframe\">\n",
       "  <thead>\n",
       "    <tr style=\"text-align: right;\">\n",
       "      <th></th>\n",
       "      <th>butter</th>\n",
       "      <th>wheat</th>\n",
       "      <th>mushroom</th>\n",
       "      <th>yeast</th>\n",
       "      <th>asparagus</th>\n",
       "      <th>cheddar_cheese</th>\n",
       "      <th>egg</th>\n",
       "    </tr>\n",
       "  </thead>\n",
       "  <tbody>\n",
       "    <tr>\n",
       "      <th>butter</th>\n",
       "      <td>0</td>\n",
       "      <td>1</td>\n",
       "      <td>51</td>\n",
       "      <td>0</td>\n",
       "      <td>0</td>\n",
       "      <td>71</td>\n",
       "      <td>28</td>\n",
       "    </tr>\n",
       "    <tr>\n",
       "      <th>wheat</th>\n",
       "      <td>0</td>\n",
       "      <td>0</td>\n",
       "      <td>0</td>\n",
       "      <td>0</td>\n",
       "      <td>0</td>\n",
       "      <td>0</td>\n",
       "      <td>0</td>\n",
       "    </tr>\n",
       "    <tr>\n",
       "      <th>mushroom</th>\n",
       "      <td>0</td>\n",
       "      <td>1</td>\n",
       "      <td>0</td>\n",
       "      <td>0</td>\n",
       "      <td>0</td>\n",
       "      <td>0</td>\n",
       "      <td>0</td>\n",
       "    </tr>\n",
       "    <tr>\n",
       "      <th>yeast</th>\n",
       "      <td>0</td>\n",
       "      <td>0</td>\n",
       "      <td>0</td>\n",
       "      <td>0</td>\n",
       "      <td>0</td>\n",
       "      <td>0</td>\n",
       "      <td>0</td>\n",
       "    </tr>\n",
       "    <tr>\n",
       "      <th>asparagus</th>\n",
       "      <td>30</td>\n",
       "      <td>3</td>\n",
       "      <td>25</td>\n",
       "      <td>0</td>\n",
       "      <td>0</td>\n",
       "      <td>28</td>\n",
       "      <td>14</td>\n",
       "    </tr>\n",
       "    <tr>\n",
       "      <th>cheddar_cheese</th>\n",
       "      <td>0</td>\n",
       "      <td>4</td>\n",
       "      <td>57</td>\n",
       "      <td>0</td>\n",
       "      <td>0</td>\n",
       "      <td>0</td>\n",
       "      <td>32</td>\n",
       "    </tr>\n",
       "    <tr>\n",
       "      <th>egg</th>\n",
       "      <td>0</td>\n",
       "      <td>0</td>\n",
       "      <td>24</td>\n",
       "      <td>0</td>\n",
       "      <td>0</td>\n",
       "      <td>0</td>\n",
       "      <td>0</td>\n",
       "    </tr>\n",
       "  </tbody>\n",
       "</table>\n",
       "</div>"
      ],
      "text/plain": [
       "                butter  wheat  mushroom  yeast  asparagus  cheddar_cheese  egg\n",
       "butter               0      1        51      0          0              71   28\n",
       "wheat                0      0         0      0          0               0    0\n",
       "mushroom             0      1         0      0          0               0    0\n",
       "yeast                0      0         0      0          0               0    0\n",
       "asparagus           30      3        25      0          0              28   14\n",
       "cheddar_cheese       0      4        57      0          0               0   32\n",
       "egg                  0      0        24      0          0               0    0"
      ]
     },
     "execution_count": 51,
     "metadata": {},
     "output_type": "execute_result"
    }
   ],
   "source": [
    "cereals"
   ]
  },
  {
   "cell_type": "code",
   "execution_count": 43,
   "metadata": {
    "scrolled": true
   },
   "outputs": [
    {
     "data": {
      "text/plain": [
       "['butter', 'chicken_broth', 'parmesan_cheese', 'cauliflower', 'bread']"
      ]
     },
     "execution_count": 43,
     "metadata": {},
     "output_type": "execute_result"
    }
   ],
   "source": [
    "compon"
   ]
  },
  {
   "cell_type": "code",
   "execution_count": null,
   "metadata": {},
   "outputs": [],
   "source": [
    "# Random recipe Chord chart\n",
    "# Chord(hops, compon).to_html('Dish' + str(rand_dish)+ '.html')"
   ]
  },
  {
   "cell_type": "markdown",
   "metadata": {},
   "source": [
    "# Novel flavor combination generation"
   ]
  },
  {
   "cell_type": "code",
   "execution_count": 4,
   "metadata": {},
   "outputs": [],
   "source": [
    "# Load in matrices from EDA.\n",
    "shares = pd.read_csv(\"Shared_Compounds_Dense.csv\")\n",
    "recs = pd.read_csv(\"Recipe_Components_Dense.csv\")"
   ]
  },
  {
   "cell_type": "code",
   "execution_count": 5,
   "metadata": {},
   "outputs": [],
   "source": [
    "# Flavor generator function gives a list of flavors from a starting flavor\n",
    "def flavor_generator(first_flavor, num_flavors, flavor_space):\n",
    "    flavors = []\n",
    "    flavors.append(first_flavor)\n",
    "    n = num_flavors - 1\n",
    "    current_flavor = first_flavor\n",
    "    for i in range(0, n):\n",
    "        new_flavor_index = random.choices(flavor_space.index,\n",
    "                                          weights=flavor_space[current_flavor], k=1)\n",
    "        new_flavor = flavor_space.iloc[new_flavor_index[0]][0]\n",
    "        flavors.append(new_flavor)\n",
    "        current_flavor = new_flavor\n",
    "    return flavors"
   ]
  },
  {
   "cell_type": "code",
   "execution_count": 6,
   "metadata": {},
   "outputs": [],
   "source": [
    "# Flavor dataframe function shows the flavor connections between ingredients in a list\n",
    "def flavor_df(flavors):\n",
    "    components = []\n",
    "\n",
    "    for i in range(0,len(flavors)):\n",
    "        for j in range(0,len(flavors)):\n",
    "            try: \n",
    "                components.append(int(combinatrix.loc[flavors[i], flavors[j]]))\n",
    "            except KeyError:\n",
    "                components.append(0)\n",
    "                \n",
    "    flav_ar = np.array(components).reshape((len(flavors),len(flavors)))\n",
    "    flav_df = pd.DataFrame(flav_ar, index=flavors, columns=flavors)\n",
    "    flav_df = flav_df + flav_df.T\n",
    "    \n",
    "    return flav_df"
   ]
  },
  {
   "cell_type": "code",
   "execution_count": 7,
   "metadata": {},
   "outputs": [
    {
     "data": {
      "text/plain": [
       "['coriander',\n",
       " 'potato',\n",
       " 'garlic',\n",
       " 'bell_pepper',\n",
       " 'cayenne',\n",
       " 'lemongrass',\n",
       " 'peanut_butter']"
      ]
     },
     "execution_count": 7,
     "metadata": {},
     "output_type": "execute_result"
    }
   ],
   "source": [
    "# This is a result when applying the flavor generator to the recipes matrix\n",
    "flavor_generator('coriander',7,recs)"
   ]
  },
  {
   "cell_type": "code",
   "execution_count": 7,
   "metadata": {},
   "outputs": [
    {
     "data": {
      "text/plain": [
       "['enokidake',\n",
       " 'raw_turkey',\n",
       " 'boronia_ledifolia_leaf',\n",
       " 'asparagus',\n",
       " 'beer',\n",
       " 'wort',\n",
       " 'vanilla']"
      ]
     },
     "execution_count": 7,
     "metadata": {},
     "output_type": "execute_result"
    }
   ],
   "source": [
    "# This is a result when applying the flavor generator to the shared compounds matrix\n",
    "flavor_generator('enokidake',7,shares)"
   ]
  },
  {
   "cell_type": "code",
   "execution_count": 14,
   "metadata": {},
   "outputs": [],
   "source": [
    "# Generate a few lists to use with the flavor dataframe function\n",
    "flavor_6 = flavor_generator('cayenne',6,shares)\n",
    "flavor_7 = flavor_generator('coriander',7,shares)\n",
    "flavor_8 = flavor_generator('matsutake',7,shares)"
   ]
  },
  {
   "cell_type": "code",
   "execution_count": 10,
   "metadata": {},
   "outputs": [],
   "source": [
    "fen = ['fennel','enokidake','coriander','marjoram','celery']\n",
    "fenn = ['fennel', 'enokidake', 'feta_cheese', 'cherimoya', 'jamaican_rum']"
   ]
  },
  {
   "cell_type": "code",
   "execution_count": 12,
   "metadata": {},
   "outputs": [
    {
     "data": {
      "text/html": [
       "<div>\n",
       "<style scoped>\n",
       "    .dataframe tbody tr th:only-of-type {\n",
       "        vertical-align: middle;\n",
       "    }\n",
       "\n",
       "    .dataframe tbody tr th {\n",
       "        vertical-align: top;\n",
       "    }\n",
       "\n",
       "    .dataframe thead th {\n",
       "        text-align: right;\n",
       "    }\n",
       "</style>\n",
       "<table border=\"1\" class=\"dataframe\">\n",
       "  <thead>\n",
       "    <tr style=\"text-align: right;\">\n",
       "      <th></th>\n",
       "      <th>fennel</th>\n",
       "      <th>enokidake</th>\n",
       "      <th>feta_cheese</th>\n",
       "      <th>cherimoya</th>\n",
       "      <th>jamaican_rum</th>\n",
       "    </tr>\n",
       "  </thead>\n",
       "  <tbody>\n",
       "    <tr>\n",
       "      <th>fennel</th>\n",
       "      <td>0</td>\n",
       "      <td>3</td>\n",
       "      <td>1</td>\n",
       "      <td>1</td>\n",
       "      <td>6</td>\n",
       "    </tr>\n",
       "    <tr>\n",
       "      <th>enokidake</th>\n",
       "      <td>3</td>\n",
       "      <td>0</td>\n",
       "      <td>52</td>\n",
       "      <td>17</td>\n",
       "      <td>56</td>\n",
       "    </tr>\n",
       "    <tr>\n",
       "      <th>feta_cheese</th>\n",
       "      <td>1</td>\n",
       "      <td>52</td>\n",
       "      <td>0</td>\n",
       "      <td>14</td>\n",
       "      <td>79</td>\n",
       "    </tr>\n",
       "    <tr>\n",
       "      <th>cherimoya</th>\n",
       "      <td>1</td>\n",
       "      <td>17</td>\n",
       "      <td>14</td>\n",
       "      <td>0</td>\n",
       "      <td>17</td>\n",
       "    </tr>\n",
       "    <tr>\n",
       "      <th>jamaican_rum</th>\n",
       "      <td>6</td>\n",
       "      <td>56</td>\n",
       "      <td>79</td>\n",
       "      <td>17</td>\n",
       "      <td>0</td>\n",
       "    </tr>\n",
       "  </tbody>\n",
       "</table>\n",
       "</div>"
      ],
      "text/plain": [
       "              fennel  enokidake  feta_cheese  cherimoya  jamaican_rum\n",
       "fennel             0          3            1          1             6\n",
       "enokidake          3          0           52         17            56\n",
       "feta_cheese        1         52            0         14            79\n",
       "cherimoya          1         17           14          0            17\n",
       "jamaican_rum       6         56           79         17             0"
      ]
     },
     "execution_count": 12,
     "metadata": {},
     "output_type": "execute_result"
    }
   ],
   "source": [
    "# This is the cayenne dataframe\n",
    "flavor_df(fenn)"
   ]
  },
  {
   "cell_type": "code",
   "execution_count": 16,
   "metadata": {},
   "outputs": [
    {
     "data": {
      "text/html": [
       "<div>\n",
       "<style scoped>\n",
       "    .dataframe tbody tr th:only-of-type {\n",
       "        vertical-align: middle;\n",
       "    }\n",
       "\n",
       "    .dataframe tbody tr th {\n",
       "        vertical-align: top;\n",
       "    }\n",
       "\n",
       "    .dataframe thead th {\n",
       "        text-align: right;\n",
       "    }\n",
       "</style>\n",
       "<table border=\"1\" class=\"dataframe\">\n",
       "  <thead>\n",
       "    <tr style=\"text-align: right;\">\n",
       "      <th></th>\n",
       "      <th>coriander</th>\n",
       "      <th>shrimp</th>\n",
       "      <th>citrus_peel_oil</th>\n",
       "      <th>soybean</th>\n",
       "      <th>dried_black_tea</th>\n",
       "      <th>strawberry</th>\n",
       "      <th>wild_strawberry</th>\n",
       "    </tr>\n",
       "  </thead>\n",
       "  <tbody>\n",
       "    <tr>\n",
       "      <th>coriander</th>\n",
       "      <td>0</td>\n",
       "      <td>6</td>\n",
       "      <td>17</td>\n",
       "      <td>20</td>\n",
       "      <td>23</td>\n",
       "      <td>20</td>\n",
       "      <td>14</td>\n",
       "    </tr>\n",
       "    <tr>\n",
       "      <th>shrimp</th>\n",
       "      <td>6</td>\n",
       "      <td>0</td>\n",
       "      <td>2</td>\n",
       "      <td>47</td>\n",
       "      <td>39</td>\n",
       "      <td>27</td>\n",
       "      <td>11</td>\n",
       "    </tr>\n",
       "    <tr>\n",
       "      <th>citrus_peel_oil</th>\n",
       "      <td>17</td>\n",
       "      <td>2</td>\n",
       "      <td>0</td>\n",
       "      <td>20</td>\n",
       "      <td>29</td>\n",
       "      <td>29</td>\n",
       "      <td>19</td>\n",
       "    </tr>\n",
       "    <tr>\n",
       "      <th>soybean</th>\n",
       "      <td>20</td>\n",
       "      <td>47</td>\n",
       "      <td>20</td>\n",
       "      <td>0</td>\n",
       "      <td>82</td>\n",
       "      <td>70</td>\n",
       "      <td>31</td>\n",
       "    </tr>\n",
       "    <tr>\n",
       "      <th>dried_black_tea</th>\n",
       "      <td>23</td>\n",
       "      <td>39</td>\n",
       "      <td>29</td>\n",
       "      <td>82</td>\n",
       "      <td>0</td>\n",
       "      <td>86</td>\n",
       "      <td>36</td>\n",
       "    </tr>\n",
       "    <tr>\n",
       "      <th>strawberry</th>\n",
       "      <td>20</td>\n",
       "      <td>27</td>\n",
       "      <td>29</td>\n",
       "      <td>70</td>\n",
       "      <td>86</td>\n",
       "      <td>0</td>\n",
       "      <td>55</td>\n",
       "    </tr>\n",
       "    <tr>\n",
       "      <th>wild_strawberry</th>\n",
       "      <td>14</td>\n",
       "      <td>11</td>\n",
       "      <td>19</td>\n",
       "      <td>31</td>\n",
       "      <td>36</td>\n",
       "      <td>55</td>\n",
       "      <td>0</td>\n",
       "    </tr>\n",
       "  </tbody>\n",
       "</table>\n",
       "</div>"
      ],
      "text/plain": [
       "                 coriander  shrimp  citrus_peel_oil  soybean  dried_black_tea  \\\n",
       "coriander                0       6               17       20               23   \n",
       "shrimp                   6       0                2       47               39   \n",
       "citrus_peel_oil         17       2                0       20               29   \n",
       "soybean                 20      47               20        0               82   \n",
       "dried_black_tea         23      39               29       82                0   \n",
       "strawberry              20      27               29       70               86   \n",
       "wild_strawberry         14      11               19       31               36   \n",
       "\n",
       "                 strawberry  wild_strawberry  \n",
       "coriander                20               14  \n",
       "shrimp                   27               11  \n",
       "citrus_peel_oil          29               19  \n",
       "soybean                  70               31  \n",
       "dried_black_tea          86               36  \n",
       "strawberry                0               55  \n",
       "wild_strawberry          55                0  "
      ]
     },
     "execution_count": 16,
     "metadata": {},
     "output_type": "execute_result"
    }
   ],
   "source": [
    "# This is the coriander dataframe\n",
    "flavor_df(flavor_7)"
   ]
  },
  {
   "cell_type": "code",
   "execution_count": 17,
   "metadata": {},
   "outputs": [
    {
     "data": {
      "text/html": [
       "<div>\n",
       "<style scoped>\n",
       "    .dataframe tbody tr th:only-of-type {\n",
       "        vertical-align: middle;\n",
       "    }\n",
       "\n",
       "    .dataframe tbody tr th {\n",
       "        vertical-align: top;\n",
       "    }\n",
       "\n",
       "    .dataframe thead th {\n",
       "        text-align: right;\n",
       "    }\n",
       "</style>\n",
       "<table border=\"1\" class=\"dataframe\">\n",
       "  <thead>\n",
       "    <tr style=\"text-align: right;\">\n",
       "      <th></th>\n",
       "      <th>matsutake</th>\n",
       "      <th>grape</th>\n",
       "      <th>clam</th>\n",
       "      <th>grilled_pork</th>\n",
       "      <th>roman_chamomile_oil</th>\n",
       "      <th>anise_hyssop</th>\n",
       "      <th>uncured_boiled_pork</th>\n",
       "    </tr>\n",
       "  </thead>\n",
       "  <tbody>\n",
       "    <tr>\n",
       "      <th>matsutake</th>\n",
       "      <td>0</td>\n",
       "      <td>47</td>\n",
       "      <td>35</td>\n",
       "      <td>48</td>\n",
       "      <td>5</td>\n",
       "      <td>5</td>\n",
       "      <td>48</td>\n",
       "    </tr>\n",
       "    <tr>\n",
       "      <th>grape</th>\n",
       "      <td>47</td>\n",
       "      <td>0</td>\n",
       "      <td>22</td>\n",
       "      <td>33</td>\n",
       "      <td>10</td>\n",
       "      <td>2</td>\n",
       "      <td>33</td>\n",
       "    </tr>\n",
       "    <tr>\n",
       "      <th>clam</th>\n",
       "      <td>35</td>\n",
       "      <td>22</td>\n",
       "      <td>0</td>\n",
       "      <td>39</td>\n",
       "      <td>5</td>\n",
       "      <td>3</td>\n",
       "      <td>37</td>\n",
       "    </tr>\n",
       "    <tr>\n",
       "      <th>grilled_pork</th>\n",
       "      <td>48</td>\n",
       "      <td>33</td>\n",
       "      <td>39</td>\n",
       "      <td>0</td>\n",
       "      <td>7</td>\n",
       "      <td>3</td>\n",
       "      <td>115</td>\n",
       "    </tr>\n",
       "    <tr>\n",
       "      <th>roman_chamomile_oil</th>\n",
       "      <td>5</td>\n",
       "      <td>10</td>\n",
       "      <td>5</td>\n",
       "      <td>7</td>\n",
       "      <td>0</td>\n",
       "      <td>3</td>\n",
       "      <td>7</td>\n",
       "    </tr>\n",
       "    <tr>\n",
       "      <th>anise_hyssop</th>\n",
       "      <td>5</td>\n",
       "      <td>2</td>\n",
       "      <td>3</td>\n",
       "      <td>3</td>\n",
       "      <td>3</td>\n",
       "      <td>0</td>\n",
       "      <td>3</td>\n",
       "    </tr>\n",
       "    <tr>\n",
       "      <th>uncured_boiled_pork</th>\n",
       "      <td>48</td>\n",
       "      <td>33</td>\n",
       "      <td>37</td>\n",
       "      <td>115</td>\n",
       "      <td>7</td>\n",
       "      <td>3</td>\n",
       "      <td>0</td>\n",
       "    </tr>\n",
       "  </tbody>\n",
       "</table>\n",
       "</div>"
      ],
      "text/plain": [
       "                     matsutake  grape  clam  grilled_pork  \\\n",
       "matsutake                    0     47    35            48   \n",
       "grape                       47      0    22            33   \n",
       "clam                        35     22     0            39   \n",
       "grilled_pork                48     33    39             0   \n",
       "roman_chamomile_oil          5     10     5             7   \n",
       "anise_hyssop                 5      2     3             3   \n",
       "uncured_boiled_pork         48     33    37           115   \n",
       "\n",
       "                     roman_chamomile_oil  anise_hyssop  uncured_boiled_pork  \n",
       "matsutake                              5             5                   48  \n",
       "grape                                 10             2                   33  \n",
       "clam                                   5             3                   37  \n",
       "grilled_pork                           7             3                  115  \n",
       "roman_chamomile_oil                    0             3                    7  \n",
       "anise_hyssop                           3             0                    3  \n",
       "uncured_boiled_pork                    7             3                    0  "
      ]
     },
     "execution_count": 17,
     "metadata": {},
     "output_type": "execute_result"
    }
   ],
   "source": [
    "# This is the matsutake dataframe\n",
    "flavor_df(flavor_8)"
   ]
  },
  {
   "cell_type": "code",
   "execution_count": 19,
   "metadata": {},
   "outputs": [
    {
     "data": {
      "text/plain": [
       "[[0, 8, 4, 1, 16, 8],\n",
       " [8, 0, 24, 18, 35, 27],\n",
       " [4, 24, 0, 36, 60, 92],\n",
       " [1, 18, 36, 0, 38, 41],\n",
       " [16, 35, 60, 38, 0, 88],\n",
       " [8, 27, 92, 41, 88, 0]]"
      ]
     },
     "execution_count": 19,
     "metadata": {},
     "output_type": "execute_result"
    }
   ],
   "source": [
    "# We can just take the values for our chord chart\n",
    "lister = flavor_df(flavor_6).values.tolist()\n",
    "lister"
   ]
  },
  {
   "cell_type": "code",
   "execution_count": 20,
   "metadata": {},
   "outputs": [],
   "source": [
    "# The labels for the chord chart is the input for the flavor dataframe function\n",
    "#Chord(lister, flavor_7).to_html('cayenne_6.html')"
   ]
  }
 ],
 "metadata": {
  "kernelspec": {
   "display_name": "Python 3",
   "language": "python",
   "name": "python3"
  },
  "language_info": {
   "codemirror_mode": {
    "name": "ipython",
    "version": 3
   },
   "file_extension": ".py",
   "mimetype": "text/x-python",
   "name": "python",
   "nbconvert_exporter": "python",
   "pygments_lexer": "ipython3",
   "version": "3.8.5"
  }
 },
 "nbformat": 4,
 "nbformat_minor": 4
}
