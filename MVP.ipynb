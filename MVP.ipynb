{
 "cells": [
  {
   "cell_type": "code",
   "execution_count": 2,
   "metadata": {},
   "outputs": [],
   "source": [
    "import pandas as pd\n",
    "import numpy as np\n",
    "from chord import Chord\n",
    "import random"
   ]
  },
  {
   "cell_type": "code",
   "execution_count": 4,
   "metadata": {},
   "outputs": [
    {
     "name": "stderr",
     "output_type": "stream",
     "text": [
      "/opt/anaconda3/lib/python3.8/site-packages/IPython/core/interactiveshell.py:3146: DtypeWarning: Columns (30,31,32) have mixed types.Specify dtype option on import or set low_memory=False.\n",
      "  has_raised = await self.run_ast_nodes(code_ast.body, cell_name,\n"
     ]
    }
   ],
   "source": [
    "dishes = pd.read_csv('Data/dish_components.csv',error_bad_lines=False)"
   ]
  },
  {
   "cell_type": "code",
   "execution_count": 5,
   "metadata": {},
   "outputs": [],
   "source": [
    "numdish = len(dishes)"
   ]
  },
  {
   "cell_type": "code",
   "execution_count": 18,
   "metadata": {},
   "outputs": [],
   "source": [
    "dishes = dishes.T\n",
    "dishes = dishes.dropna(how='all')"
   ]
  },
  {
   "cell_type": "code",
   "execution_count": 2,
   "metadata": {},
   "outputs": [],
   "source": [
    "compounds = pd.read_csv('Data/shared_compounds.csv')"
   ]
  },
  {
   "cell_type": "code",
   "execution_count": 3,
   "metadata": {},
   "outputs": [],
   "source": [
    "combinatrix = compounds.groupby(['First Ingredient','Second Ingredient']).sum()"
   ]
  },
  {
   "cell_type": "markdown",
   "metadata": {},
   "source": [
    "# Random dish to flavor Chord chart"
   ]
  },
  {
   "cell_type": "code",
   "execution_count": 46,
   "metadata": {},
   "outputs": [],
   "source": [
    "rand_dish = int(np.random.randint(numdish, size=1))"
   ]
  },
  {
   "cell_type": "code",
   "execution_count": 47,
   "metadata": {
    "scrolled": true
   },
   "outputs": [
    {
     "data": {
      "text/plain": [
       "Ingredient 1            butter\n",
       "Ingredient 2             wheat\n",
       "Ingredient 3          mushroom\n",
       "Ingredient 4             yeast\n",
       "Ingredient 5         asparagus\n",
       "Ingredient 6    cheddar_cheese\n",
       "Ingredient 7               egg\n",
       "Name: 44934, dtype: object"
      ]
     },
     "execution_count": 47,
     "metadata": {},
     "output_type": "execute_result"
    }
   ],
   "source": [
    "recipe = dishes[rand_dish]\n",
    "recipe = recipe.dropna()\n",
    "recipe = recipe[1:][0:]\n",
    "compon = [ing for ing in recipe]\n",
    "recipe"
   ]
  },
  {
   "cell_type": "code",
   "execution_count": 48,
   "metadata": {},
   "outputs": [],
   "source": [
    "components = []\n",
    "\n",
    "for i in range(0,len(compon)):\n",
    "    for j in range(0,len(compon)):\n",
    "        try: \n",
    "            components.append(int(combinatrix.loc[compon[i], compon[j]]))\n",
    "        except KeyError:\n",
    "            components.append(0)\n",
    "    "
   ]
  },
  {
   "cell_type": "code",
   "execution_count": 49,
   "metadata": {},
   "outputs": [],
   "source": [
    "# Make list into array\n",
    "fromechovus = np.array(components).reshape((len(recipe),len(recipe)))\n",
    "\n",
    "# Creates DataFrame and Matrix as a list.\n",
    "cereals = pd.DataFrame(fromechovus, index=compon, columns=compon)\n",
    "\n",
    "hops = cereals.values.tolist()"
   ]
  },
  {
   "cell_type": "code",
   "execution_count": 50,
   "metadata": {},
   "outputs": [],
   "source": [
    "# Random recipe Chord chart\n",
    "Chord(hops, compon).to_html('Dish' + str(rand_dish)+ '.html')"
   ]
  },
  {
   "cell_type": "code",
   "execution_count": 51,
   "metadata": {},
   "outputs": [
    {
     "data": {
      "text/html": [
       "<div>\n",
       "<style scoped>\n",
       "    .dataframe tbody tr th:only-of-type {\n",
       "        vertical-align: middle;\n",
       "    }\n",
       "\n",
       "    .dataframe tbody tr th {\n",
       "        vertical-align: top;\n",
       "    }\n",
       "\n",
       "    .dataframe thead th {\n",
       "        text-align: right;\n",
       "    }\n",
       "</style>\n",
       "<table border=\"1\" class=\"dataframe\">\n",
       "  <thead>\n",
       "    <tr style=\"text-align: right;\">\n",
       "      <th></th>\n",
       "      <th>butter</th>\n",
       "      <th>wheat</th>\n",
       "      <th>mushroom</th>\n",
       "      <th>yeast</th>\n",
       "      <th>asparagus</th>\n",
       "      <th>cheddar_cheese</th>\n",
       "      <th>egg</th>\n",
       "    </tr>\n",
       "  </thead>\n",
       "  <tbody>\n",
       "    <tr>\n",
       "      <th>butter</th>\n",
       "      <td>0</td>\n",
       "      <td>1</td>\n",
       "      <td>51</td>\n",
       "      <td>0</td>\n",
       "      <td>0</td>\n",
       "      <td>71</td>\n",
       "      <td>28</td>\n",
       "    </tr>\n",
       "    <tr>\n",
       "      <th>wheat</th>\n",
       "      <td>0</td>\n",
       "      <td>0</td>\n",
       "      <td>0</td>\n",
       "      <td>0</td>\n",
       "      <td>0</td>\n",
       "      <td>0</td>\n",
       "      <td>0</td>\n",
       "    </tr>\n",
       "    <tr>\n",
       "      <th>mushroom</th>\n",
       "      <td>0</td>\n",
       "      <td>1</td>\n",
       "      <td>0</td>\n",
       "      <td>0</td>\n",
       "      <td>0</td>\n",
       "      <td>0</td>\n",
       "      <td>0</td>\n",
       "    </tr>\n",
       "    <tr>\n",
       "      <th>yeast</th>\n",
       "      <td>0</td>\n",
       "      <td>0</td>\n",
       "      <td>0</td>\n",
       "      <td>0</td>\n",
       "      <td>0</td>\n",
       "      <td>0</td>\n",
       "      <td>0</td>\n",
       "    </tr>\n",
       "    <tr>\n",
       "      <th>asparagus</th>\n",
       "      <td>30</td>\n",
       "      <td>3</td>\n",
       "      <td>25</td>\n",
       "      <td>0</td>\n",
       "      <td>0</td>\n",
       "      <td>28</td>\n",
       "      <td>14</td>\n",
       "    </tr>\n",
       "    <tr>\n",
       "      <th>cheddar_cheese</th>\n",
       "      <td>0</td>\n",
       "      <td>4</td>\n",
       "      <td>57</td>\n",
       "      <td>0</td>\n",
       "      <td>0</td>\n",
       "      <td>0</td>\n",
       "      <td>32</td>\n",
       "    </tr>\n",
       "    <tr>\n",
       "      <th>egg</th>\n",
       "      <td>0</td>\n",
       "      <td>0</td>\n",
       "      <td>24</td>\n",
       "      <td>0</td>\n",
       "      <td>0</td>\n",
       "      <td>0</td>\n",
       "      <td>0</td>\n",
       "    </tr>\n",
       "  </tbody>\n",
       "</table>\n",
       "</div>"
      ],
      "text/plain": [
       "                butter  wheat  mushroom  yeast  asparagus  cheddar_cheese  egg\n",
       "butter               0      1        51      0          0              71   28\n",
       "wheat                0      0         0      0          0               0    0\n",
       "mushroom             0      1         0      0          0               0    0\n",
       "yeast                0      0         0      0          0               0    0\n",
       "asparagus           30      3        25      0          0              28   14\n",
       "cheddar_cheese       0      4        57      0          0               0   32\n",
       "egg                  0      0        24      0          0               0    0"
      ]
     },
     "execution_count": 51,
     "metadata": {},
     "output_type": "execute_result"
    }
   ],
   "source": [
    "cereals"
   ]
  },
  {
   "cell_type": "code",
   "execution_count": 43,
   "metadata": {},
   "outputs": [
    {
     "data": {
      "text/plain": [
       "['butter', 'chicken_broth', 'parmesan_cheese', 'cauliflower', 'bread']"
      ]
     },
     "execution_count": 43,
     "metadata": {},
     "output_type": "execute_result"
    }
   ],
   "source": [
    "compon"
   ]
  },
  {
   "cell_type": "markdown",
   "metadata": {},
   "source": [
    "# Novel flavor combination generation"
   ]
  },
  {
   "cell_type": "code",
   "execution_count": 3,
   "metadata": {},
   "outputs": [],
   "source": [
    "recs = pd.read_csv(\"Recipe_Components_Dense.csv\")"
   ]
  },
  {
   "cell_type": "code",
   "execution_count": 4,
   "metadata": {},
   "outputs": [],
   "source": [
    "shares = pd.read_csv(\"Shared_Compounds_Dense.csv\")"
   ]
  },
  {
   "cell_type": "code",
   "execution_count": 5,
   "metadata": {},
   "outputs": [],
   "source": [
    "def flavor_generator(first_flavor, num_flavors, flavor_space):\n",
    "    flavors = []\n",
    "    flavors.append(first_flavor)\n",
    "    n = num_flavors - 1\n",
    "    current_flavor = first_flavor\n",
    "    for i in range(0, n):\n",
    "        new_flavor_index = random.choices(flavor_space.index,\n",
    "                                          weights=flavor_space[current_flavor], k=1)\n",
    "        new_flavor = flavor_space.iloc[new_flavor_index[0]][0]\n",
    "        flavors.append(new_flavor)\n",
    "        current_flavor = new_flavor\n",
    "    return flavors"
   ]
  },
  {
   "cell_type": "code",
   "execution_count": 6,
   "metadata": {},
   "outputs": [],
   "source": [
    "def flavor_df(flavors):\n",
    "    components = []\n",
    "\n",
    "    for i in range(0,len(flavors)):\n",
    "        for j in range(0,len(flavors)):\n",
    "            try: \n",
    "                components.append(int(combinatrix.loc[flavors[i], flavors[j]]))\n",
    "            except KeyError:\n",
    "                components.append(0)\n",
    "                \n",
    "    flav_ar = np.array(components).reshape((len(flavors),len(flavors)))\n",
    "    flav_df = pd.DataFrame(flav_ar, index=flavors, columns=flavors)\n",
    "    flav_df = flav_df + flav_df.T\n",
    "    \n",
    "    return flav_df"
   ]
  },
  {
   "cell_type": "code",
   "execution_count": 32,
   "metadata": {},
   "outputs": [
    {
     "data": {
      "text/plain": [
       "['lovage', 'mustard', 'egg', 'carrot', 'soybean', 'barley', 'soy_sauce']"
      ]
     },
     "execution_count": 32,
     "metadata": {},
     "output_type": "execute_result"
    }
   ],
   "source": [
    "flavor_generator('lovage',7,recs)"
   ]
  },
  {
   "cell_type": "code",
   "execution_count": 7,
   "metadata": {},
   "outputs": [
    {
     "data": {
      "text/plain": [
       "['coriander',\n",
       " 'black_tea',\n",
       " 'fermented_tea',\n",
       " 'carob_fruit',\n",
       " 'litchi',\n",
       " 'smoked_fatty_fish',\n",
       " 'goat_cheese']"
      ]
     },
     "execution_count": 7,
     "metadata": {},
     "output_type": "execute_result"
    }
   ],
   "source": [
    "flavor_generator('coriander',7,shares)"
   ]
  },
  {
   "cell_type": "code",
   "execution_count": 12,
   "metadata": {},
   "outputs": [],
   "source": [
    "flavor_6 = flavor_generator('cherimoya',6,shares)\n",
    "flavor_7 = flavor_generator('lovage',7,shares)\n",
    "flavor_8 = flavor_generator('huckleberry',7,shares)"
   ]
  },
  {
   "cell_type": "code",
   "execution_count": 19,
   "metadata": {},
   "outputs": [
    {
     "data": {
      "text/html": [
       "<div>\n",
       "<style scoped>\n",
       "    .dataframe tbody tr th:only-of-type {\n",
       "        vertical-align: middle;\n",
       "    }\n",
       "\n",
       "    .dataframe tbody tr th {\n",
       "        vertical-align: top;\n",
       "    }\n",
       "\n",
       "    .dataframe thead th {\n",
       "        text-align: right;\n",
       "    }\n",
       "</style>\n",
       "<table border=\"1\" class=\"dataframe\">\n",
       "  <thead>\n",
       "    <tr style=\"text-align: right;\">\n",
       "      <th></th>\n",
       "      <th>cherimoya</th>\n",
       "      <th>cabernet_sauvignon_grape</th>\n",
       "      <th>ruta_chalepensis_oil</th>\n",
       "      <th>grape</th>\n",
       "      <th>brown_rice</th>\n",
       "      <th>rum</th>\n",
       "    </tr>\n",
       "  </thead>\n",
       "  <tbody>\n",
       "    <tr>\n",
       "      <th>cherimoya</th>\n",
       "      <td>0</td>\n",
       "      <td>20</td>\n",
       "      <td>1</td>\n",
       "      <td>20</td>\n",
       "      <td>10</td>\n",
       "      <td>17</td>\n",
       "    </tr>\n",
       "    <tr>\n",
       "      <th>cabernet_sauvignon_grape</th>\n",
       "      <td>20</td>\n",
       "      <td>0</td>\n",
       "      <td>1</td>\n",
       "      <td>125</td>\n",
       "      <td>34</td>\n",
       "      <td>62</td>\n",
       "    </tr>\n",
       "    <tr>\n",
       "      <th>ruta_chalepensis_oil</th>\n",
       "      <td>1</td>\n",
       "      <td>1</td>\n",
       "      <td>0</td>\n",
       "      <td>1</td>\n",
       "      <td>1</td>\n",
       "      <td>1</td>\n",
       "    </tr>\n",
       "    <tr>\n",
       "      <th>grape</th>\n",
       "      <td>20</td>\n",
       "      <td>125</td>\n",
       "      <td>1</td>\n",
       "      <td>0</td>\n",
       "      <td>34</td>\n",
       "      <td>62</td>\n",
       "    </tr>\n",
       "    <tr>\n",
       "      <th>brown_rice</th>\n",
       "      <td>10</td>\n",
       "      <td>34</td>\n",
       "      <td>1</td>\n",
       "      <td>34</td>\n",
       "      <td>0</td>\n",
       "      <td>43</td>\n",
       "    </tr>\n",
       "    <tr>\n",
       "      <th>rum</th>\n",
       "      <td>17</td>\n",
       "      <td>62</td>\n",
       "      <td>1</td>\n",
       "      <td>62</td>\n",
       "      <td>43</td>\n",
       "      <td>0</td>\n",
       "    </tr>\n",
       "  </tbody>\n",
       "</table>\n",
       "</div>"
      ],
      "text/plain": [
       "                          cherimoya  cabernet_sauvignon_grape  \\\n",
       "cherimoya                         0                        20   \n",
       "cabernet_sauvignon_grape         20                         0   \n",
       "ruta_chalepensis_oil              1                         1   \n",
       "grape                            20                       125   \n",
       "brown_rice                       10                        34   \n",
       "rum                              17                        62   \n",
       "\n",
       "                          ruta_chalepensis_oil  grape  brown_rice  rum  \n",
       "cherimoya                                    1     20          10   17  \n",
       "cabernet_sauvignon_grape                     1    125          34   62  \n",
       "ruta_chalepensis_oil                         0      1           1    1  \n",
       "grape                                        1      0          34   62  \n",
       "brown_rice                                   1     34           0   43  \n",
       "rum                                          1     62          43    0  "
      ]
     },
     "execution_count": 19,
     "metadata": {},
     "output_type": "execute_result"
    }
   ],
   "source": [
    "flavor_df(flavor_6)"
   ]
  },
  {
   "cell_type": "code",
   "execution_count": 20,
   "metadata": {},
   "outputs": [
    {
     "data": {
      "text/html": [
       "<div>\n",
       "<style scoped>\n",
       "    .dataframe tbody tr th:only-of-type {\n",
       "        vertical-align: middle;\n",
       "    }\n",
       "\n",
       "    .dataframe tbody tr th {\n",
       "        vertical-align: top;\n",
       "    }\n",
       "\n",
       "    .dataframe thead th {\n",
       "        text-align: right;\n",
       "    }\n",
       "</style>\n",
       "<table border=\"1\" class=\"dataframe\">\n",
       "  <thead>\n",
       "    <tr style=\"text-align: right;\">\n",
       "      <th></th>\n",
       "      <th>lovage</th>\n",
       "      <th>red_bean</th>\n",
       "      <th>strawberry</th>\n",
       "      <th>seal</th>\n",
       "      <th>corn</th>\n",
       "      <th>pear_brandy</th>\n",
       "      <th>raw_beef</th>\n",
       "    </tr>\n",
       "  </thead>\n",
       "  <tbody>\n",
       "    <tr>\n",
       "      <th>lovage</th>\n",
       "      <td>0</td>\n",
       "      <td>12</td>\n",
       "      <td>21</td>\n",
       "      <td>8</td>\n",
       "      <td>11</td>\n",
       "      <td>1</td>\n",
       "      <td>12</td>\n",
       "    </tr>\n",
       "    <tr>\n",
       "      <th>red_bean</th>\n",
       "      <td>12</td>\n",
       "      <td>0</td>\n",
       "      <td>45</td>\n",
       "      <td>23</td>\n",
       "      <td>33</td>\n",
       "      <td>3</td>\n",
       "      <td>53</td>\n",
       "    </tr>\n",
       "    <tr>\n",
       "      <th>strawberry</th>\n",
       "      <td>21</td>\n",
       "      <td>45</td>\n",
       "      <td>0</td>\n",
       "      <td>25</td>\n",
       "      <td>40</td>\n",
       "      <td>4</td>\n",
       "      <td>62</td>\n",
       "    </tr>\n",
       "    <tr>\n",
       "      <th>seal</th>\n",
       "      <td>8</td>\n",
       "      <td>23</td>\n",
       "      <td>25</td>\n",
       "      <td>0</td>\n",
       "      <td>26</td>\n",
       "      <td>1</td>\n",
       "      <td>44</td>\n",
       "    </tr>\n",
       "    <tr>\n",
       "      <th>corn</th>\n",
       "      <td>11</td>\n",
       "      <td>33</td>\n",
       "      <td>40</td>\n",
       "      <td>26</td>\n",
       "      <td>0</td>\n",
       "      <td>4</td>\n",
       "      <td>51</td>\n",
       "    </tr>\n",
       "    <tr>\n",
       "      <th>pear_brandy</th>\n",
       "      <td>1</td>\n",
       "      <td>3</td>\n",
       "      <td>4</td>\n",
       "      <td>1</td>\n",
       "      <td>4</td>\n",
       "      <td>0</td>\n",
       "      <td>4</td>\n",
       "    </tr>\n",
       "    <tr>\n",
       "      <th>raw_beef</th>\n",
       "      <td>12</td>\n",
       "      <td>53</td>\n",
       "      <td>62</td>\n",
       "      <td>44</td>\n",
       "      <td>51</td>\n",
       "      <td>4</td>\n",
       "      <td>0</td>\n",
       "    </tr>\n",
       "  </tbody>\n",
       "</table>\n",
       "</div>"
      ],
      "text/plain": [
       "             lovage  red_bean  strawberry  seal  corn  pear_brandy  raw_beef\n",
       "lovage            0        12          21     8    11            1        12\n",
       "red_bean         12         0          45    23    33            3        53\n",
       "strawberry       21        45           0    25    40            4        62\n",
       "seal              8        23          25     0    26            1        44\n",
       "corn             11        33          40    26     0            4        51\n",
       "pear_brandy       1         3           4     1     4            0         4\n",
       "raw_beef         12        53          62    44    51            4         0"
      ]
     },
     "execution_count": 20,
     "metadata": {},
     "output_type": "execute_result"
    }
   ],
   "source": [
    "flavor_df(flavor_7)"
   ]
  },
  {
   "cell_type": "code",
   "execution_count": 21,
   "metadata": {},
   "outputs": [
    {
     "data": {
      "text/html": [
       "<div>\n",
       "<style scoped>\n",
       "    .dataframe tbody tr th:only-of-type {\n",
       "        vertical-align: middle;\n",
       "    }\n",
       "\n",
       "    .dataframe tbody tr th {\n",
       "        vertical-align: top;\n",
       "    }\n",
       "\n",
       "    .dataframe thead th {\n",
       "        text-align: right;\n",
       "    }\n",
       "</style>\n",
       "<table border=\"1\" class=\"dataframe\">\n",
       "  <thead>\n",
       "    <tr style=\"text-align: right;\">\n",
       "      <th></th>\n",
       "      <th>huckleberry</th>\n",
       "      <th>chicken</th>\n",
       "      <th>seychelles_tea</th>\n",
       "      <th>blackberry</th>\n",
       "      <th>horse_mackerel</th>\n",
       "      <th>matsutake</th>\n",
       "      <th>raw_fatty_fish</th>\n",
       "    </tr>\n",
       "  </thead>\n",
       "  <tbody>\n",
       "    <tr>\n",
       "      <th>huckleberry</th>\n",
       "      <td>0</td>\n",
       "      <td>23</td>\n",
       "      <td>35</td>\n",
       "      <td>52</td>\n",
       "      <td>17</td>\n",
       "      <td>21</td>\n",
       "      <td>19</td>\n",
       "    </tr>\n",
       "    <tr>\n",
       "      <th>chicken</th>\n",
       "      <td>23</td>\n",
       "      <td>0</td>\n",
       "      <td>62</td>\n",
       "      <td>34</td>\n",
       "      <td>38</td>\n",
       "      <td>55</td>\n",
       "      <td>45</td>\n",
       "    </tr>\n",
       "    <tr>\n",
       "      <th>seychelles_tea</th>\n",
       "      <td>35</td>\n",
       "      <td>62</td>\n",
       "      <td>0</td>\n",
       "      <td>61</td>\n",
       "      <td>36</td>\n",
       "      <td>57</td>\n",
       "      <td>46</td>\n",
       "    </tr>\n",
       "    <tr>\n",
       "      <th>blackberry</th>\n",
       "      <td>52</td>\n",
       "      <td>34</td>\n",
       "      <td>61</td>\n",
       "      <td>0</td>\n",
       "      <td>21</td>\n",
       "      <td>34</td>\n",
       "      <td>25</td>\n",
       "    </tr>\n",
       "    <tr>\n",
       "      <th>horse_mackerel</th>\n",
       "      <td>17</td>\n",
       "      <td>38</td>\n",
       "      <td>36</td>\n",
       "      <td>21</td>\n",
       "      <td>0</td>\n",
       "      <td>31</td>\n",
       "      <td>64</td>\n",
       "    </tr>\n",
       "    <tr>\n",
       "      <th>matsutake</th>\n",
       "      <td>21</td>\n",
       "      <td>55</td>\n",
       "      <td>57</td>\n",
       "      <td>34</td>\n",
       "      <td>31</td>\n",
       "      <td>0</td>\n",
       "      <td>38</td>\n",
       "    </tr>\n",
       "    <tr>\n",
       "      <th>raw_fatty_fish</th>\n",
       "      <td>19</td>\n",
       "      <td>45</td>\n",
       "      <td>46</td>\n",
       "      <td>25</td>\n",
       "      <td>64</td>\n",
       "      <td>38</td>\n",
       "      <td>0</td>\n",
       "    </tr>\n",
       "  </tbody>\n",
       "</table>\n",
       "</div>"
      ],
      "text/plain": [
       "                huckleberry  chicken  seychelles_tea  blackberry  \\\n",
       "huckleberry               0       23              35          52   \n",
       "chicken                  23        0              62          34   \n",
       "seychelles_tea           35       62               0          61   \n",
       "blackberry               52       34              61           0   \n",
       "horse_mackerel           17       38              36          21   \n",
       "matsutake                21       55              57          34   \n",
       "raw_fatty_fish           19       45              46          25   \n",
       "\n",
       "                horse_mackerel  matsutake  raw_fatty_fish  \n",
       "huckleberry                 17         21              19  \n",
       "chicken                     38         55              45  \n",
       "seychelles_tea              36         57              46  \n",
       "blackberry                  21         34              25  \n",
       "horse_mackerel               0         31              64  \n",
       "matsutake                   31          0              38  \n",
       "raw_fatty_fish              64         38               0  "
      ]
     },
     "execution_count": 21,
     "metadata": {},
     "output_type": "execute_result"
    }
   ],
   "source": [
    "flavor_df(flavor_8)"
   ]
  },
  {
   "cell_type": "code",
   "execution_count": 22,
   "metadata": {},
   "outputs": [],
   "source": [
    "lister = flavor_df(flavor_7).values.tolist()"
   ]
  },
  {
   "cell_type": "code",
   "execution_count": 23,
   "metadata": {},
   "outputs": [
    {
     "data": {
      "text/plain": [
       "[[0, 12, 21, 8, 11, 1, 12],\n",
       " [12, 0, 45, 23, 33, 3, 53],\n",
       " [21, 45, 0, 25, 40, 4, 62],\n",
       " [8, 23, 25, 0, 26, 1, 44],\n",
       " [11, 33, 40, 26, 0, 4, 51],\n",
       " [1, 3, 4, 1, 4, 0, 4],\n",
       " [12, 53, 62, 44, 51, 4, 0]]"
      ]
     },
     "execution_count": 23,
     "metadata": {},
     "output_type": "execute_result"
    }
   ],
   "source": [
    "lister"
   ]
  },
  {
   "cell_type": "code",
   "execution_count": 24,
   "metadata": {},
   "outputs": [],
   "source": [
    "#Chord(lister, flavor_7).to_html('lovage_7.html')"
   ]
  },
  {
   "cell_type": "code",
   "execution_count": null,
   "metadata": {},
   "outputs": [],
   "source": []
  },
  {
   "cell_type": "code",
   "execution_count": 8,
   "metadata": {},
   "outputs": [
    {
     "data": {
      "text/plain": [
       "[294]"
      ]
     },
     "execution_count": 8,
     "metadata": {},
     "output_type": "execute_result"
    }
   ],
   "source": [
    "import random\n",
    "random.choices(recs.index, \n",
    "               weights=recs.garlic, k=1)"
   ]
  },
  {
   "cell_type": "code",
   "execution_count": 69,
   "metadata": {},
   "outputs": [
    {
     "data": {
      "text/plain": [
       "'tarragon'"
      ]
     },
     "execution_count": 69,
     "metadata": {},
     "output_type": "execute_result"
    }
   ],
   "source": [
    "i = random.choices(recs.index, \n",
    "               weights=recs.garlic, k=1)\n",
    "recs.iloc[i[0]][0]"
   ]
  },
  {
   "cell_type": "code",
   "execution_count": 61,
   "metadata": {},
   "outputs": [
    {
     "data": {
      "text/plain": [
       "'beef'"
      ]
     },
     "execution_count": 61,
     "metadata": {},
     "output_type": "execute_result"
    }
   ],
   "source": [
    "recs.iloc[134][0]"
   ]
  },
  {
   "cell_type": "code",
   "execution_count": 40,
   "metadata": {},
   "outputs": [
    {
     "data": {
      "text/plain": [
       "Unnamed: 0                         onion\n",
       "abies_alba                             0\n",
       "abies_alba_pine_needle                 0\n",
       "abies_balsamea_oil                     0\n",
       "abies_canadensis                       0\n",
       "                                   ...  \n",
       "zanthoxylum_piperitum_fruit_oil        0\n",
       "zanthoxylum_rhetsa                     0\n",
       "zanthoxylum_rhetsa_oil                 0\n",
       "zingiberaceae                          0\n",
       "zucchini                             622\n",
       "Name: 939, Length: 1508, dtype: object"
      ]
     },
     "execution_count": 40,
     "metadata": {},
     "output_type": "execute_result"
    }
   ],
   "source": [
    "recs.iloc[939]"
   ]
  },
  {
   "cell_type": "code",
   "execution_count": null,
   "metadata": {},
   "outputs": [],
   "source": []
  },
  {
   "cell_type": "code",
   "execution_count": null,
   "metadata": {},
   "outputs": [],
   "source": [
    "components = []\n",
    "\n",
    "for i in range(0,len(compon)):\n",
    "    for j in range(0,len(compon)):\n",
    "        try: \n",
    "            components.append(int(combinatrix.loc[compon[i], compon[j]]))\n",
    "        except KeyError:\n",
    "            components.append(0)"
   ]
  },
  {
   "cell_type": "code",
   "execution_count": null,
   "metadata": {},
   "outputs": [],
   "source": []
  },
  {
   "cell_type": "code",
   "execution_count": null,
   "metadata": {},
   "outputs": [],
   "source": []
  }
 ],
 "metadata": {
  "kernelspec": {
   "display_name": "Python 3",
   "language": "python",
   "name": "python3"
  },
  "language_info": {
   "codemirror_mode": {
    "name": "ipython",
    "version": 3
   },
   "file_extension": ".py",
   "mimetype": "text/x-python",
   "name": "python",
   "nbconvert_exporter": "python",
   "pygments_lexer": "ipython3",
   "version": "3.8.5"
  }
 },
 "nbformat": 4,
 "nbformat_minor": 4
}
